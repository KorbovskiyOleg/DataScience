{
 "cells": [
  {
   "cell_type": "markdown",
   "id": "18a761e2-3e36-4e15-b06e-33b8b594f007",
   "metadata": {},
   "source": [
    "# 1 Типы"
   ]
  },
  {
   "cell_type": "markdown",
   "id": "1cdfb06d-7ead-4fc7-9ec3-1120dbd64796",
   "metadata": {},
   "source": [
    "## 1.1 Числа"
   ]
  },
  {
   "cell_type": "code",
   "execution_count": 2,
   "id": "713d2c2f-c7e9-49b4-8bd9-e6ee3d5cbfe6",
   "metadata": {},
   "outputs": [
    {
     "data": {
      "text/plain": [
       "333.89"
      ]
     },
     "execution_count": 2,
     "metadata": {},
     "output_type": "execute_result"
    }
   ],
   "source": [
    "12 + 321.89"
   ]
  },
  {
   "cell_type": "code",
   "execution_count": 8,
   "id": "e0e0b256-a773-404b-8fa2-87bfe09f519f",
   "metadata": {},
   "outputs": [
    {
     "data": {
      "text/plain": [
       "-151179.0537359238"
      ]
     },
     "execution_count": 8,
     "metadata": {},
     "output_type": "execute_result"
    }
   ],
   "source": [
    "3*12 - (165 ** 2.1) / 0.3\n"
   ]
  },
  {
   "cell_type": "code",
   "execution_count": 6,
   "id": "62684394-8804-42c7-8db7-6950ef6214cc",
   "metadata": {},
   "outputs": [
    {
     "data": {
      "text/plain": [
       "True"
      ]
     },
     "execution_count": 6,
     "metadata": {},
     "output_type": "execute_result"
    }
   ],
   "source": [
    "32>2"
   ]
  },
  {
   "cell_type": "code",
   "execution_count": 7,
   "id": "1ed3bff2-536e-4960-948f-a69e60512e90",
   "metadata": {},
   "outputs": [
    {
     "data": {
      "text/plain": [
       "6.0"
      ]
     },
     "execution_count": 7,
     "metadata": {},
     "output_type": "execute_result"
    }
   ],
   "source": [
    "12/2\n"
   ]
  },
  {
   "cell_type": "code",
   "execution_count": 9,
   "id": "c1d25518-02c4-46a2-9f71-236ff62bb2f9",
   "metadata": {},
   "outputs": [
    {
     "data": {
      "text/plain": [
       "11"
      ]
     },
     "execution_count": 9,
     "metadata": {},
     "output_type": "execute_result"
    }
   ],
   "source": [
    "#Деление нацело\n",
    "23//2"
   ]
  },
  {
   "cell_type": "code",
   "execution_count": 11,
   "id": "8b1724c7-aa88-4bf2-a228-1bd536360df3",
   "metadata": {},
   "outputs": [
    {
     "data": {
      "text/plain": [
       "1"
      ]
     },
     "execution_count": 11,
     "metadata": {},
     "output_type": "execute_result"
    }
   ],
   "source": [
    "#Остаток по модулю\n",
    "23%2"
   ]
  },
  {
   "cell_type": "markdown",
   "id": "90ab35ec-5be3-4e1a-9087-bf48598d2283",
   "metadata": {},
   "source": [
    "## 1.2 Строки"
   ]
  },
  {
   "cell_type": "code",
   "execution_count": 14,
   "id": "e16300d8-0eca-43f9-a748-89e18f20fc8a",
   "metadata": {},
   "outputs": [
    {
     "data": {
      "text/plain": [
       "'dsad\\nasdas\\nasdas\\ndsa\\n'"
      ]
     },
     "execution_count": 14,
     "metadata": {},
     "output_type": "execute_result"
    }
   ],
   "source": [
    "# Все что в кавычках это строка\n",
    "\n",
    "\"hi!\"> 'help'\n",
    "'''dsad\n",
    "asdas\n",
    "asdas\n",
    "dsa\n",
    "'''"
   ]
  },
  {
   "cell_type": "code",
   "execution_count": 17,
   "id": "5fb86e51-d7ed-4148-bee0-13ef74ea1d8b",
   "metadata": {},
   "outputs": [
    {
     "data": {
      "text/plain": [
       "False"
      ]
     },
     "execution_count": 17,
     "metadata": {},
     "output_type": "execute_result"
    }
   ],
   "source": [
    "# Строки можно сравнивать, та буква которая первая стоит выше по алфавиту будет меньше\n",
    "\"Abc\"< 'ABc'"
   ]
  },
  {
   "cell_type": "code",
   "execution_count": 18,
   "id": "4e17a326-e10f-4559-9706-c6829dd75ff3",
   "metadata": {},
   "outputs": [
    {
     "data": {
      "text/plain": [
       "'123123'"
      ]
     },
     "execution_count": 18,
     "metadata": {},
     "output_type": "execute_result"
    }
   ],
   "source": [
    "# конкатенация строк - строки складываются\n",
    "'123'+ '123'"
   ]
  },
  {
   "cell_type": "code",
   "execution_count": 19,
   "id": "bde6468d-e984-4bd7-b2ab-90aa472fe1c3",
   "metadata": {},
   "outputs": [
    {
     "data": {
      "text/plain": [
       "'4343'"
      ]
     },
     "execution_count": 19,
     "metadata": {},
     "output_type": "execute_result"
    }
   ],
   "source": [
    "# умножение строк - строка повторяется указанное количество раз\n",
    "'43'*2"
   ]
  },
  {
   "cell_type": "code",
   "execution_count": 20,
   "id": "6a56076d-059b-4a8b-8d7a-5e79a58674c0",
   "metadata": {},
   "outputs": [],
   "source": [
    "a = 'hello'\n",
    "d = 'world'"
   ]
  },
  {
   "cell_type": "code",
   "execution_count": 22,
   "id": "2f449ff9-1b24-4ba7-aa3f-392ce41e0a03",
   "metadata": {},
   "outputs": [
    {
     "data": {
      "text/plain": [
       "'helloworld'"
      ]
     },
     "execution_count": 22,
     "metadata": {},
     "output_type": "execute_result"
    }
   ],
   "source": [
    "a+d"
   ]
  },
  {
   "cell_type": "markdown",
   "id": "00fc40db-c8ec-428a-9056-585f32d672a8",
   "metadata": {},
   "source": [
    "## Типы"
   ]
  },
  {
   "cell_type": "code",
   "execution_count": 23,
   "id": "01c8cc22-94bf-4371-9d3e-ba0931020387",
   "metadata": {},
   "outputs": [],
   "source": [
    "a = '12'"
   ]
  },
  {
   "cell_type": "code",
   "execution_count": 24,
   "id": "4fe87977-b999-4869-bc7e-e0ca969d0dc5",
   "metadata": {},
   "outputs": [
    {
     "data": {
      "text/plain": [
       "str"
      ]
     },
     "execution_count": 24,
     "metadata": {},
     "output_type": "execute_result"
    }
   ],
   "source": [
    "type(a)"
   ]
  },
  {
   "cell_type": "code",
   "execution_count": 25,
   "id": "d9d3ed3f-dae4-44f3-b625-b4b550e63db2",
   "metadata": {},
   "outputs": [],
   "source": [
    "a = int(a)"
   ]
  },
  {
   "cell_type": "code",
   "execution_count": 26,
   "id": "8a8828c1-ef36-427a-8b6a-e444c2358dc1",
   "metadata": {},
   "outputs": [
    {
     "data": {
      "text/plain": [
       "int"
      ]
     },
     "execution_count": 26,
     "metadata": {},
     "output_type": "execute_result"
    }
   ],
   "source": [
    "type(a)"
   ]
  },
  {
   "cell_type": "markdown",
   "id": "86c52a73-3fc2-4227-8830-5a75ff4a1df9",
   "metadata": {},
   "source": [
    "## 1.4 Кортежи - tuple"
   ]
  },
  {
   "cell_type": "code",
   "execution_count": 27,
   "id": "5e2be871-9351-4418-b861-905ca008bfcd",
   "metadata": {},
   "outputs": [],
   "source": [
    "# кортежи - это неизменяемые последовательности разнородных данных"
   ]
  },
  {
   "cell_type": "code",
   "execution_count": 28,
   "id": "5aefff4b-0bae-4c63-8119-726f9ad290d3",
   "metadata": {},
   "outputs": [
    {
     "data": {
      "text/plain": [
       "(12, 'world')"
      ]
     },
     "execution_count": 28,
     "metadata": {},
     "output_type": "execute_result"
    }
   ],
   "source": [
    "many = (a,d)\n",
    "many\n"
   ]
  },
  {
   "cell_type": "code",
   "execution_count": 29,
   "id": "46b1d2e2-a9fe-4bed-bd2b-fdb43a8e349c",
   "metadata": {},
   "outputs": [
    {
     "data": {
      "text/plain": [
       "(1, 2, 3, 4, 5)"
      ]
     },
     "execution_count": 29,
     "metadata": {},
     "output_type": "execute_result"
    }
   ],
   "source": [
    "many = (1,2,3,4,5)\n",
    "many"
   ]
  },
  {
   "cell_type": "code",
   "execution_count": 31,
   "id": "598a7363-4ccc-48d0-94c2-75dfc5a95c0c",
   "metadata": {},
   "outputs": [
    {
     "data": {
      "text/plain": [
       "1"
      ]
     },
     "execution_count": 31,
     "metadata": {},
     "output_type": "execute_result"
    }
   ],
   "source": [
    "# обращение к элементу\n",
    "many[0]"
   ]
  },
  {
   "cell_type": "code",
   "execution_count": 33,
   "id": "9f214eb1-a9a3-4528-98d6-1de6d1fe4b73",
   "metadata": {},
   "outputs": [
    {
     "data": {
      "text/plain": [
       "5"
      ]
     },
     "execution_count": 33,
     "metadata": {},
     "output_type": "execute_result"
    }
   ],
   "source": [
    "# обращение к последнему символу\n",
    "many[-1]"
   ]
  },
  {
   "cell_type": "code",
   "execution_count": 35,
   "id": "de083434-fae2-44ac-b51c-56254c56b558",
   "metadata": {},
   "outputs": [
    {
     "data": {
      "text/plain": [
       "4"
      ]
     },
     "execution_count": 35,
     "metadata": {},
     "output_type": "execute_result"
    }
   ],
   "source": [
    "# обращение к предпоследнему символу\n",
    "many[-2]"
   ]
  },
  {
   "cell_type": "code",
   "execution_count": 36,
   "id": "57808dd4-66ab-415f-bbb9-f390b340fb12",
   "metadata": {},
   "outputs": [
    {
     "data": {
      "text/plain": [
       "(1, 3, 5)"
      ]
     },
     "execution_count": 36,
     "metadata": {},
     "output_type": "execute_result"
    }
   ],
   "source": [
    "# каждый второй элемент\n",
    "many[0:5:2]"
   ]
  },
  {
   "cell_type": "code",
   "execution_count": 38,
   "id": "f1fcd906-ee46-4c76-918f-f7e2fb3deba0",
   "metadata": {},
   "outputs": [
    {
     "data": {
      "text/plain": [
       "(5, 4, 3, 2, 1)"
      ]
     },
     "execution_count": 38,
     "metadata": {},
     "output_type": "execute_result"
    }
   ],
   "source": [
    "# показать в обратном порядке\n",
    "many[::-1]"
   ]
  },
  {
   "cell_type": "code",
   "execution_count": 39,
   "id": "3289eebc-5493-4bfe-a8dc-c451ce1f3e24",
   "metadata": {},
   "outputs": [
    {
     "data": {
      "text/plain": [
       "(1, 2)"
      ]
     },
     "execution_count": 39,
     "metadata": {},
     "output_type": "execute_result"
    }
   ],
   "source": [
    "# первые два\n",
    "many[:2]"
   ]
  },
  {
   "cell_type": "code",
   "execution_count": 40,
   "id": "5fc10909-644e-437b-9045-6e7de7b24d49",
   "metadata": {},
   "outputs": [
    {
     "data": {
      "text/plain": [
       "(3, 4, 5)"
      ]
     },
     "execution_count": 40,
     "metadata": {},
     "output_type": "execute_result"
    }
   ],
   "source": [
    "# со второго и дальше\n",
    "many[2:]"
   ]
  },
  {
   "cell_type": "markdown",
   "id": "1f89f9ec-2b29-4cf6-9172-bf3c3a0f33c6",
   "metadata": {},
   "source": [
    "## 1.5 Списки - list"
   ]
  },
  {
   "cell_type": "code",
   "execution_count": 41,
   "id": "37187fde-6503-4be2-b41c-09a9ed6ddd5f",
   "metadata": {},
   "outputs": [],
   "source": [
    "# изменяемые последовательности "
   ]
  },
  {
   "cell_type": "code",
   "execution_count": 45,
   "id": "94844cc4-3c96-406d-ba03-1cccb1993714",
   "metadata": {},
   "outputs": [
    {
     "data": {
      "text/plain": [
       "[1, 2, 3, 4, 5]"
      ]
     },
     "execution_count": 45,
     "metadata": {},
     "output_type": "execute_result"
    }
   ],
   "source": [
    "many = [1,2,3,4,5]\n",
    "many"
   ]
  },
  {
   "cell_type": "code",
   "execution_count": 47,
   "id": "ba7bd4a4-be39-44b6-b798-c8eb51f13880",
   "metadata": {},
   "outputs": [
    {
     "data": {
      "text/plain": [
       "['a', 2, 3, 4, 5]"
      ]
     },
     "execution_count": 47,
     "metadata": {},
     "output_type": "execute_result"
    }
   ],
   "source": [
    "many[0] = 'a'\n",
    "many"
   ]
  },
  {
   "cell_type": "code",
   "execution_count": 48,
   "id": "79194fba-16e9-4c18-9e72-bd8b29137bd8",
   "metadata": {},
   "outputs": [
    {
     "data": {
      "text/plain": [
       "['a', 2, 3, 4, 5, 'a', 2, 3, 4, 5]"
      ]
     },
     "execution_count": 48,
     "metadata": {},
     "output_type": "execute_result"
    }
   ],
   "source": [
    "many + many"
   ]
  },
  {
   "cell_type": "code",
   "execution_count": 49,
   "id": "fe18b799-5898-48af-bad7-a0619f6e9805",
   "metadata": {},
   "outputs": [
    {
     "data": {
      "text/plain": [
       "['a', 2, 3, 4, 5]"
      ]
     },
     "execution_count": 49,
     "metadata": {},
     "output_type": "execute_result"
    }
   ],
   "source": [
    "many"
   ]
  },
  {
   "cell_type": "code",
   "execution_count": 50,
   "id": "4897e7d4-76bc-4c78-9ca1-e78bedacd37c",
   "metadata": {},
   "outputs": [
    {
     "data": {
      "text/plain": [
       "['a', 2, 3, 4, 5]"
      ]
     },
     "execution_count": 50,
     "metadata": {},
     "output_type": "execute_result"
    }
   ],
   "source": [
    "many2=many\n",
    "many2"
   ]
  },
  {
   "cell_type": "code",
   "execution_count": 53,
   "id": "443b93f8-ce10-475c-87e9-df6395bfc41d",
   "metadata": {},
   "outputs": [
    {
     "data": {
      "text/plain": [
       "['true', 2, 3, 4, 5]"
      ]
     },
     "execution_count": 53,
     "metadata": {},
     "output_type": "execute_result"
    }
   ],
   "source": [
    "many2[0] = 'true'\n",
    "many2"
   ]
  },
  {
   "cell_type": "code",
   "execution_count": 54,
   "id": "65f81a4d-9ea7-4102-931a-58f62045daad",
   "metadata": {},
   "outputs": [
    {
     "data": {
      "text/plain": [
       "['true', 2, 3, 4, 5]"
      ]
     },
     "execution_count": 54,
     "metadata": {},
     "output_type": "execute_result"
    }
   ],
   "source": [
    "many"
   ]
  },
  {
   "cell_type": "code",
   "execution_count": 55,
   "id": "99a935b3-be66-42e1-9403-d71d16545ff0",
   "metadata": {},
   "outputs": [],
   "source": [
    "# при изменении элементы спииска меняются  в сравниваемых\n"
   ]
  },
  {
   "cell_type": "markdown",
   "id": "d12364c7-ca3e-4f0a-8225-99c44af1cb77",
   "metadata": {},
   "source": [
    "## 1.6 Строки"
   ]
  },
  {
   "cell_type": "code",
   "execution_count": 56,
   "id": "a08d56d3-63a0-4313-bf4c-26d747b6a96f",
   "metadata": {},
   "outputs": [],
   "source": [
    "a = 'hello'\n",
    "b = 'world' "
   ]
  },
  {
   "cell_type": "code",
   "execution_count": 57,
   "id": "a9bab6ad-beca-4332-a8e4-b45ecfc4f11e",
   "metadata": {},
   "outputs": [
    {
     "data": {
      "text/plain": [
       "'olleh'"
      ]
     },
     "execution_count": 57,
     "metadata": {},
     "output_type": "execute_result"
    }
   ],
   "source": [
    "a[::-1]"
   ]
  },
  {
   "cell_type": "code",
   "execution_count": 58,
   "id": "4662d5a7-65c1-4873-a545-234a77f821c4",
   "metadata": {},
   "outputs": [
    {
     "ename": "TypeError",
     "evalue": "'str' object does not support item assignment",
     "output_type": "error",
     "traceback": [
      "\u001b[1;31m---------------------------------------------------------------------------\u001b[0m",
      "\u001b[1;31mTypeError\u001b[0m                                 Traceback (most recent call last)",
      "Cell \u001b[1;32mIn[58], line 1\u001b[0m\n\u001b[1;32m----> 1\u001b[0m a[\u001b[38;5;241m0\u001b[39m] \u001b[38;5;241m=\u001b[39m \u001b[38;5;124m'\u001b[39m\u001b[38;5;124mH\u001b[39m\u001b[38;5;124m'\u001b[39m\n",
      "\u001b[1;31mTypeError\u001b[0m: 'str' object does not support item assignment"
     ]
    }
   ],
   "source": [
    "a[0] = 'H'"
   ]
  },
  {
   "cell_type": "code",
   "execution_count": 60,
   "id": "c99e9887-eace-4a8e-93ad-92c96fc54189",
   "metadata": {},
   "outputs": [
    {
     "data": {
      "text/plain": [
       "'Hello'"
      ]
     },
     "execution_count": 60,
     "metadata": {},
     "output_type": "execute_result"
    }
   ],
   "source": [
    "a = 'H' + a[1:]\n",
    "a"
   ]
  },
  {
   "cell_type": "code",
   "execution_count": 61,
   "id": "a6c8cde0-2867-43bb-8216-bd0eb345558b",
   "metadata": {},
   "outputs": [],
   "source": [
    "# Ура ! Все сработало"
   ]
  },
  {
   "cell_type": "code",
   "execution_count": 62,
   "id": "a721a1a0-26d7-4693-b26d-f96c910d3bf6",
   "metadata": {},
   "outputs": [
    {
     "data": {
      "text/plain": [
       "float"
      ]
     },
     "execution_count": 62,
     "metadata": {},
     "output_type": "execute_result"
    }
   ],
   "source": [
    "a = 10/5\n",
    "type(a)"
   ]
  },
  {
   "cell_type": "code",
   "execution_count": 63,
   "id": "aea4a616-6f9c-4fd3-9524-8d92a748a857",
   "metadata": {},
   "outputs": [
    {
     "data": {
      "text/plain": [
       "True"
      ]
     },
     "execution_count": 63,
     "metadata": {},
     "output_type": "execute_result"
    }
   ],
   "source": [
    "'Курс по анализу' >= 'Данных' "
   ]
  },
  {
   "cell_type": "code",
   "execution_count": 64,
   "id": "22addbaf-d58e-407d-aa8e-cdf2bc55ccea",
   "metadata": {},
   "outputs": [
    {
     "ename": "NameError",
     "evalue": "name 'hello' is not defined",
     "output_type": "error",
     "traceback": [
      "\u001b[1;31m---------------------------------------------------------------------------\u001b[0m",
      "\u001b[1;31mNameError\u001b[0m                                 Traceback (most recent call last)",
      "Cell \u001b[1;32mIn[64], line 1\u001b[0m\n\u001b[1;32m----> 1\u001b[0m \u001b[38;5;28mstr\u001b[39m(hello)\n",
      "\u001b[1;31mNameError\u001b[0m: name 'hello' is not defined"
     ]
    }
   ],
   "source": [
    "str(hello)"
   ]
  },
  {
   "cell_type": "code",
   "execution_count": 65,
   "id": "c286c0ca-8b7b-4bee-8012-3eddb71cd195",
   "metadata": {},
   "outputs": [
    {
     "data": {
      "text/plain": [
       "'в'"
      ]
     },
     "execution_count": 65,
     "metadata": {},
     "output_type": "execute_result"
    }
   ],
   "source": [
    "a  = 'привет'\n",
    "a[1+2]"
   ]
  },
  {
   "cell_type": "code",
   "execution_count": 78,
   "id": "dda63a1e-16a2-4a1b-ab88-79bcbe38a16a",
   "metadata": {},
   "outputs": [],
   "source": [
    "a  =(1,2,3)\n",
    "b =(2,)"
   ]
  },
  {
   "cell_type": "code",
   "execution_count": 79,
   "id": "2750fe0c-dfe6-43be-9c5d-4247ab3bc37f",
   "metadata": {},
   "outputs": [
    {
     "data": {
      "text/plain": [
       "(1, 2, 3, 2)"
      ]
     },
     "execution_count": 79,
     "metadata": {},
     "output_type": "execute_result"
    }
   ],
   "source": [
    "a+b"
   ]
  },
  {
   "cell_type": "code",
   "execution_count": null,
   "id": "2fe87371-952c-48d6-8984-3f5f8281e26a",
   "metadata": {},
   "outputs": [],
   "source": []
  }
 ],
 "metadata": {
  "kernelspec": {
   "display_name": "Python [conda env:base] *",
   "language": "python",
   "name": "conda-base-py"
  },
  "language_info": {
   "codemirror_mode": {
    "name": "ipython",
    "version": 3
   },
   "file_extension": ".py",
   "mimetype": "text/x-python",
   "name": "python",
   "nbconvert_exporter": "python",
   "pygments_lexer": "ipython3",
   "version": "3.13.5"
  }
 },
 "nbformat": 4,
 "nbformat_minor": 5
}
