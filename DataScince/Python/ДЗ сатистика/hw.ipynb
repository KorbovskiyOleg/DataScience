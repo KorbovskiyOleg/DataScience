{
 "cells": [
  {
   "cell_type": "markdown",
   "id": "31c8d92d",
   "metadata": {},
   "source": [
    "В этом блоке проанализируем А/Б тест\n",
    "\n",
    "Мы добавили на лендинг с оформлением дебетовой карты (https://www.tinkoff.ru/cards/debit-cards/tinkoff-black/) информацию о дополнительных кэшбеках, которые появляются благодаря нашим патнерам. Рассчитываем, что это вырастит конверсию из переходов на лендинг в оформление дебетовой карты. \n",
    "\n",
    "В приложенном файле вам доступны логи переходов на сайт и последующего оформления карточки за каждый день. "
   ]
  },
  {
   "cell_type": "code",
   "execution_count": 1,
   "id": "15fcdd54",
   "metadata": {},
   "outputs": [],
   "source": [
    "# загрузим необходимые пакеты\n",
    "\n",
    "import pandas as pd\n",
    "\n",
    "import seaborn as sns\n",
    "import matplotlib.pyplot as plt\n",
    "import scipy.stats\n"
   ]
  },
  {
   "cell_type": "code",
   "execution_count": 2,
   "id": "7eb866a4",
   "metadata": {},
   "outputs": [],
   "source": [
    "# Загрузите таблицу в датафрейм\n",
    "\n",
    "df = pd.read_csv('hw_ab.csv')"
   ]
  },
  {
   "cell_type": "code",
   "execution_count": 3,
   "id": "a21af2f7",
   "metadata": {},
   "outputs": [],
   "source": [
    "# Посмотрите на поля и проанализируйте таблицу: она содержит поля \n",
    "# date — дата захода пользователя на лендинг\n",
    "# id — идентификатор, присвоенный пользователю\n",
    "# group — группа теста или контроля\n",
    "# converted – 1, если пользователь оформил карточку и 0, если не оформил\n",
    "\n"
   ]
  },
  {
   "cell_type": "code",
   "execution_count": 4,
   "id": "4664c1ac-f0e9-41c6-b93c-6b7f28a3dcec",
   "metadata": {},
   "outputs": [
    {
     "data": {
      "text/html": [
       "<div>\n",
       "<style scoped>\n",
       "    .dataframe tbody tr th:only-of-type {\n",
       "        vertical-align: middle;\n",
       "    }\n",
       "\n",
       "    .dataframe tbody tr th {\n",
       "        vertical-align: top;\n",
       "    }\n",
       "\n",
       "    .dataframe thead th {\n",
       "        text-align: right;\n",
       "    }\n",
       "</style>\n",
       "<table border=\"1\" class=\"dataframe\">\n",
       "  <thead>\n",
       "    <tr style=\"text-align: right;\">\n",
       "      <th></th>\n",
       "      <th>date</th>\n",
       "      <th>id</th>\n",
       "      <th>group</th>\n",
       "      <th>converted</th>\n",
       "    </tr>\n",
       "  </thead>\n",
       "  <tbody>\n",
       "    <tr>\n",
       "      <th>0</th>\n",
       "      <td>2023-08-01</td>\n",
       "      <td>5030836</td>\n",
       "      <td>control</td>\n",
       "      <td>0</td>\n",
       "    </tr>\n",
       "    <tr>\n",
       "      <th>1</th>\n",
       "      <td>2023-08-01</td>\n",
       "      <td>5091425</td>\n",
       "      <td>control</td>\n",
       "      <td>0</td>\n",
       "    </tr>\n",
       "    <tr>\n",
       "      <th>2</th>\n",
       "      <td>2023-08-01</td>\n",
       "      <td>5106537</td>\n",
       "      <td>control</td>\n",
       "      <td>0</td>\n",
       "    </tr>\n",
       "    <tr>\n",
       "      <th>3</th>\n",
       "      <td>2023-08-01</td>\n",
       "      <td>4556522</td>\n",
       "      <td>control</td>\n",
       "      <td>0</td>\n",
       "    </tr>\n",
       "    <tr>\n",
       "      <th>4</th>\n",
       "      <td>2023-08-01</td>\n",
       "      <td>4002917</td>\n",
       "      <td>control</td>\n",
       "      <td>0</td>\n",
       "    </tr>\n",
       "    <tr>\n",
       "      <th>...</th>\n",
       "      <td>...</td>\n",
       "      <td>...</td>\n",
       "      <td>...</td>\n",
       "      <td>...</td>\n",
       "    </tr>\n",
       "    <tr>\n",
       "      <th>94773</th>\n",
       "      <td>2023-11-01</td>\n",
       "      <td>7729860</td>\n",
       "      <td>test</td>\n",
       "      <td>0</td>\n",
       "    </tr>\n",
       "    <tr>\n",
       "      <th>94774</th>\n",
       "      <td>2023-11-01</td>\n",
       "      <td>8088716</td>\n",
       "      <td>test</td>\n",
       "      <td>0</td>\n",
       "    </tr>\n",
       "    <tr>\n",
       "      <th>94775</th>\n",
       "      <td>2023-11-01</td>\n",
       "      <td>4478281</td>\n",
       "      <td>test</td>\n",
       "      <td>0</td>\n",
       "    </tr>\n",
       "    <tr>\n",
       "      <th>94776</th>\n",
       "      <td>2023-11-01</td>\n",
       "      <td>5710762</td>\n",
       "      <td>test</td>\n",
       "      <td>0</td>\n",
       "    </tr>\n",
       "    <tr>\n",
       "      <th>94777</th>\n",
       "      <td>2023-11-01</td>\n",
       "      <td>8505333</td>\n",
       "      <td>test</td>\n",
       "      <td>0</td>\n",
       "    </tr>\n",
       "  </tbody>\n",
       "</table>\n",
       "<p>94778 rows × 4 columns</p>\n",
       "</div>"
      ],
      "text/plain": [
       "             date       id    group  converted\n",
       "0      2023-08-01  5030836  control          0\n",
       "1      2023-08-01  5091425  control          0\n",
       "2      2023-08-01  5106537  control          0\n",
       "3      2023-08-01  4556522  control          0\n",
       "4      2023-08-01  4002917  control          0\n",
       "...           ...      ...      ...        ...\n",
       "94773  2023-11-01  7729860     test          0\n",
       "94774  2023-11-01  8088716     test          0\n",
       "94775  2023-11-01  4478281     test          0\n",
       "94776  2023-11-01  5710762     test          0\n",
       "94777  2023-11-01  8505333     test          0\n",
       "\n",
       "[94778 rows x 4 columns]"
      ]
     },
     "execution_count": 4,
     "metadata": {},
     "output_type": "execute_result"
    }
   ],
   "source": [
    "df"
   ]
  },
  {
   "cell_type": "code",
   "execution_count": 5,
   "id": "9f14b22b-d699-4174-b3a4-9b0c833a160e",
   "metadata": {},
   "outputs": [
    {
     "name": "stdout",
     "output_type": "stream",
     "text": [
      "<class 'pandas.core.frame.DataFrame'>\n",
      "RangeIndex: 94778 entries, 0 to 94777\n",
      "Data columns (total 4 columns):\n",
      " #   Column     Non-Null Count  Dtype \n",
      "---  ------     --------------  ----- \n",
      " 0   date       94778 non-null  object\n",
      " 1   id         94778 non-null  int64 \n",
      " 2   group      94778 non-null  object\n",
      " 3   converted  94778 non-null  int64 \n",
      "dtypes: int64(2), object(2)\n",
      "memory usage: 2.9+ MB\n"
     ]
    },
    {
     "data": {
      "text/plain": [
       "(None,\n",
       "          date       id    group  converted\n",
       " 0  2023-08-01  5030836  control          0\n",
       " 1  2023-08-01  5091425  control          0\n",
       " 2  2023-08-01  5106537  control          0\n",
       " 3  2023-08-01  4556522  control          0\n",
       " 4  2023-08-01  4002917  control          0)"
      ]
     },
     "execution_count": 5,
     "metadata": {},
     "output_type": "execute_result"
    }
   ],
   "source": [
    "df.info(),df.head()"
   ]
  },
  {
   "cell_type": "code",
   "execution_count": 6,
   "id": "c30643b7",
   "metadata": {},
   "outputs": [],
   "source": [
    "# убедитесь,что пользователи уникальные\n"
   ]
  },
  {
   "cell_type": "code",
   "execution_count": 7,
   "id": "2dad77d9-3b08-44d3-9edd-ede80e7a6e31",
   "metadata": {},
   "outputs": [
    {
     "data": {
      "text/plain": [
       "94778"
      ]
     },
     "execution_count": 7,
     "metadata": {},
     "output_type": "execute_result"
    }
   ],
   "source": [
    "unique_users = df['id'].nunique()\n",
    "unique_users"
   ]
  },
  {
   "cell_type": "code",
   "execution_count": 8,
   "id": "f4951574",
   "metadata": {},
   "outputs": [],
   "source": [
    "# убедитесь, что пользователей в тесте и контроле приблизительно равное количество, \n",
    "# в каждой группе каждый день теста были пользователи, и они как оформляли карту, так и нет\n",
    "\n"
   ]
  },
  {
   "cell_type": "code",
   "execution_count": 9,
   "id": "10b7f1e2-a614-427e-a7da-ae7e6aa7c949",
   "metadata": {},
   "outputs": [
    {
     "data": {
      "text/plain": [
       "group\n",
       "test       47448\n",
       "control    47330\n",
       "Name: count, dtype: int64"
      ]
     },
     "execution_count": 9,
     "metadata": {},
     "output_type": "execute_result"
    }
   ],
   "source": [
    "group_couts = df['group'].value_counts()\n",
    "group_couts"
   ]
  },
  {
   "cell_type": "code",
   "execution_count": 10,
   "id": "abefcf45-b4cf-47c7-a8fe-663e0a9a69e9",
   "metadata": {},
   "outputs": [
    {
     "data": {
      "text/html": [
       "<div>\n",
       "<style scoped>\n",
       "    .dataframe tbody tr th:only-of-type {\n",
       "        vertical-align: middle;\n",
       "    }\n",
       "\n",
       "    .dataframe tbody tr th {\n",
       "        vertical-align: top;\n",
       "    }\n",
       "\n",
       "    .dataframe thead th {\n",
       "        text-align: right;\n",
       "    }\n",
       "</style>\n",
       "<table border=\"1\" class=\"dataframe\">\n",
       "  <thead>\n",
       "    <tr style=\"text-align: right;\">\n",
       "      <th></th>\n",
       "      <th>date</th>\n",
       "      <th>group</th>\n",
       "      <th>has_conv</th>\n",
       "      <th>has_not_conv</th>\n",
       "    </tr>\n",
       "  </thead>\n",
       "  <tbody>\n",
       "    <tr>\n",
       "      <th>0</th>\n",
       "      <td>2023-08-01</td>\n",
       "      <td>control</td>\n",
       "      <td>True</td>\n",
       "      <td>True</td>\n",
       "    </tr>\n",
       "    <tr>\n",
       "      <th>1</th>\n",
       "      <td>2023-08-01</td>\n",
       "      <td>test</td>\n",
       "      <td>True</td>\n",
       "      <td>True</td>\n",
       "    </tr>\n",
       "    <tr>\n",
       "      <th>2</th>\n",
       "      <td>2023-08-02</td>\n",
       "      <td>control</td>\n",
       "      <td>True</td>\n",
       "      <td>True</td>\n",
       "    </tr>\n",
       "    <tr>\n",
       "      <th>3</th>\n",
       "      <td>2023-08-02</td>\n",
       "      <td>test</td>\n",
       "      <td>True</td>\n",
       "      <td>True</td>\n",
       "    </tr>\n",
       "    <tr>\n",
       "      <th>4</th>\n",
       "      <td>2023-08-03</td>\n",
       "      <td>control</td>\n",
       "      <td>True</td>\n",
       "      <td>True</td>\n",
       "    </tr>\n",
       "    <tr>\n",
       "      <th>...</th>\n",
       "      <td>...</td>\n",
       "      <td>...</td>\n",
       "      <td>...</td>\n",
       "      <td>...</td>\n",
       "    </tr>\n",
       "    <tr>\n",
       "      <th>181</th>\n",
       "      <td>2023-10-30</td>\n",
       "      <td>test</td>\n",
       "      <td>True</td>\n",
       "      <td>True</td>\n",
       "    </tr>\n",
       "    <tr>\n",
       "      <th>182</th>\n",
       "      <td>2023-10-31</td>\n",
       "      <td>control</td>\n",
       "      <td>True</td>\n",
       "      <td>True</td>\n",
       "    </tr>\n",
       "    <tr>\n",
       "      <th>183</th>\n",
       "      <td>2023-10-31</td>\n",
       "      <td>test</td>\n",
       "      <td>True</td>\n",
       "      <td>True</td>\n",
       "    </tr>\n",
       "    <tr>\n",
       "      <th>184</th>\n",
       "      <td>2023-11-01</td>\n",
       "      <td>control</td>\n",
       "      <td>True</td>\n",
       "      <td>True</td>\n",
       "    </tr>\n",
       "    <tr>\n",
       "      <th>185</th>\n",
       "      <td>2023-11-01</td>\n",
       "      <td>test</td>\n",
       "      <td>True</td>\n",
       "      <td>True</td>\n",
       "    </tr>\n",
       "  </tbody>\n",
       "</table>\n",
       "<p>186 rows × 4 columns</p>\n",
       "</div>"
      ],
      "text/plain": [
       "           date    group  has_conv  has_not_conv\n",
       "0    2023-08-01  control      True          True\n",
       "1    2023-08-01     test      True          True\n",
       "2    2023-08-02  control      True          True\n",
       "3    2023-08-02     test      True          True\n",
       "4    2023-08-03  control      True          True\n",
       "..          ...      ...       ...           ...\n",
       "181  2023-10-30     test      True          True\n",
       "182  2023-10-31  control      True          True\n",
       "183  2023-10-31     test      True          True\n",
       "184  2023-11-01  control      True          True\n",
       "185  2023-11-01     test      True          True\n",
       "\n",
       "[186 rows x 4 columns]"
      ]
     },
     "execution_count": 10,
     "metadata": {},
     "output_type": "execute_result"
    }
   ],
   "source": [
    "valid_days = df.groupby(['date', 'group'])['converted'].agg(\n",
    "    has_conv = lambda  x:(x==1).any(),\n",
    "    has_not_conv = lambda x: (x==0).any()\n",
    ").reset_index()\n",
    "\n",
    "valid_days"
   ]
  },
  {
   "cell_type": "code",
   "execution_count": 11,
   "id": "ec14877c-9bd5-485a-8a1b-b67896fd038c",
   "metadata": {},
   "outputs": [
    {
     "data": {
      "text/html": [
       "<div>\n",
       "<style scoped>\n",
       "    .dataframe tbody tr th:only-of-type {\n",
       "        vertical-align: middle;\n",
       "    }\n",
       "\n",
       "    .dataframe tbody tr th {\n",
       "        vertical-align: top;\n",
       "    }\n",
       "\n",
       "    .dataframe thead th {\n",
       "        text-align: right;\n",
       "    }\n",
       "</style>\n",
       "<table border=\"1\" class=\"dataframe\">\n",
       "  <thead>\n",
       "    <tr style=\"text-align: right;\">\n",
       "      <th></th>\n",
       "      <th>date</th>\n",
       "      <th>group</th>\n",
       "      <th>has_conv</th>\n",
       "      <th>has_not_conv</th>\n",
       "    </tr>\n",
       "  </thead>\n",
       "  <tbody>\n",
       "  </tbody>\n",
       "</table>\n",
       "</div>"
      ],
      "text/plain": [
       "Empty DataFrame\n",
       "Columns: [date, group, has_conv, has_not_conv]\n",
       "Index: []"
      ]
     },
     "execution_count": 11,
     "metadata": {},
     "output_type": "execute_result"
    }
   ],
   "source": [
    "# Флаги наличия хотябы одного конвентирванного и неконв\n",
    "invalid_days = valid_days[~(valid_days['has_conv']&valid_days['has_not_conv'])]\n",
    "invalid_days"
   ]
  },
  {
   "cell_type": "code",
   "execution_count": 12,
   "id": "b83aa200",
   "metadata": {},
   "outputs": [],
   "source": [
    "# отличаются ли конверсии в тесте и в контроле?\n",
    "\n"
   ]
  },
  {
   "cell_type": "code",
   "execution_count": 13,
   "id": "ab7c7012",
   "metadata": {},
   "outputs": [
    {
     "data": {
      "text/plain": [
       "np.float64(0.10399323896049018)"
      ]
     },
     "execution_count": 13,
     "metadata": {},
     "output_type": "execute_result"
    }
   ],
   "source": [
    "# конверсия в контроле: \n",
    "control = df[df['group']=='control']\n",
    "conversion_control = control['converted'].mean()\n",
    "conversion_control\n"
   ]
  },
  {
   "cell_type": "code",
   "execution_count": 14,
   "id": "5c7c1a25-003f-4d63-bfa5-ba066feb1513",
   "metadata": {},
   "outputs": [
    {
     "data": {
      "text/plain": [
       "np.float64(10.399323896049017)"
      ]
     },
     "execution_count": 14,
     "metadata": {},
     "output_type": "execute_result"
    }
   ],
   "source": [
    "conversion_control = conversion_control*100\n",
    "conversion_control"
   ]
  },
  {
   "cell_type": "code",
   "execution_count": 15,
   "id": "1d363c22",
   "metadata": {},
   "outputs": [
    {
     "data": {
      "text/plain": [
       "np.float64(0.11958354409037261)"
      ]
     },
     "execution_count": 15,
     "metadata": {},
     "output_type": "execute_result"
    }
   ],
   "source": [
    "# конверсия в тесте: \n",
    "test = df[df['group']=='test']\n",
    "conversion_test = test['converted'].mean()\n",
    "conversion_test"
   ]
  },
  {
   "cell_type": "code",
   "execution_count": 16,
   "id": "8935d594-44e4-4ddd-9854-4a43434ef37d",
   "metadata": {},
   "outputs": [
    {
     "data": {
      "text/plain": [
       "np.float64(11.95835440903726)"
      ]
     },
     "execution_count": 16,
     "metadata": {},
     "output_type": "execute_result"
    }
   ],
   "source": [
    "conversion_test = conversion_test*100\n",
    "conversion_test"
   ]
  },
  {
   "cell_type": "code",
   "execution_count": 18,
   "id": "e9aa6c37-6519-4775-90df-f864d5041631",
   "metadata": {},
   "outputs": [],
   "source": [
    "general_conv = conversion_test - conversion_control"
   ]
  },
  {
   "cell_type": "code",
   "execution_count": 19,
   "id": "070f05e6-4cb3-40a4-b68e-a28d6c471c6a",
   "metadata": {},
   "outputs": [
    {
     "data": {
      "text/plain": [
       "np.float64(1.5590305129882438)"
      ]
     },
     "execution_count": 19,
     "metadata": {},
     "output_type": "execute_result"
    }
   ],
   "source": [
    "general_conv"
   ]
  },
  {
   "cell_type": "code",
   "execution_count": 23,
   "id": "db2b9972-ee08-4678-ae4f-3a1ae6916272",
   "metadata": {},
   "outputs": [],
   "source": [
    "# посчитайте число открыхых карт в тесте\n",
    "count_test = (test['converted']==1).sum()"
   ]
  },
  {
   "cell_type": "code",
   "execution_count": 24,
   "id": "0367ec0a-4215-40fb-80e5-db65c976ee68",
   "metadata": {},
   "outputs": [
    {
     "data": {
      "text/plain": [
       "np.int64(5674)"
      ]
     },
     "execution_count": 24,
     "metadata": {},
     "output_type": "execute_result"
    }
   ],
   "source": [
    "count_test"
   ]
  },
  {
   "cell_type": "code",
   "execution_count": 36,
   "id": "6361cfc8-44e0-4729-962f-c640cbc236ce",
   "metadata": {},
   "outputs": [],
   "source": [
    "# посчитайте общее число наблюдений в тесте, это число заходов на лендинг\n",
    "seen = df[df['group']=='test']"
   ]
  },
  {
   "cell_type": "code",
   "execution_count": 37,
   "id": "879b5c62-2cac-4ada-a143-6036996ef58f",
   "metadata": {},
   "outputs": [
    {
     "data": {
      "text/plain": [
       "47448"
      ]
     },
     "execution_count": 37,
     "metadata": {},
     "output_type": "execute_result"
    }
   ],
   "source": [
    "seen_test = seen.shape[0]\n",
    "seen_test"
   ]
  },
  {
   "cell_type": "code",
   "execution_count": 27,
   "id": "2556e0cc-83e7-43aa-a68f-09adba262b47",
   "metadata": {},
   "outputs": [
    {
     "data": {
      "text/plain": [
       "converted\n",
       "0    41774\n",
       "1     5674\n",
       "Name: count, dtype: int64"
      ]
     },
     "execution_count": 27,
     "metadata": {},
     "output_type": "execute_result"
    }
   ],
   "source": [
    "test['converted'].value_counts()"
   ]
  },
  {
   "cell_type": "code",
   "execution_count": 28,
   "id": "84f21bf7-bc8a-4f88-ba35-5b39cd068827",
   "metadata": {},
   "outputs": [
    {
     "name": "stdout",
     "output_type": "stream",
     "text": [
      "<class 'pandas.core.series.Series'>\n",
      "Index: 47448 entries, 512 to 94777\n",
      "Series name: converted\n",
      "Non-Null Count  Dtype\n",
      "--------------  -----\n",
      "47448 non-null  int64\n",
      "dtypes: int64(1)\n",
      "memory usage: 741.4 KB\n"
     ]
    }
   ],
   "source": [
    "test['converted'].info()"
   ]
  },
  {
   "cell_type": "code",
   "execution_count": 38,
   "id": "44ce100e-cfea-40fb-9c34-359e1042fea9",
   "metadata": {},
   "outputs": [
    {
     "data": {
      "text/plain": [
       "np.int64(4922)"
      ]
     },
     "execution_count": 38,
     "metadata": {},
     "output_type": "execute_result"
    }
   ],
   "source": [
    "# посчитайте число открытых карт в контроле\n",
    "cout_control = (control['converted']).sum()\n",
    "cout_control"
   ]
  },
  {
   "cell_type": "code",
   "execution_count": 39,
   "id": "69ffff43-aa01-4f83-92d2-f4847f30bab4",
   "metadata": {},
   "outputs": [
    {
     "data": {
      "text/plain": [
       "47330"
      ]
     },
     "execution_count": 39,
     "metadata": {},
     "output_type": "execute_result"
    }
   ],
   "source": [
    "seen_c = df[df['group']=='control']\n",
    "seen_control = seen_c.shape[0]\n",
    "seen_control"
   ]
  },
  {
   "cell_type": "code",
   "execution_count": 43,
   "id": "04249a95-bad4-452c-9c4d-45d035e2f30d",
   "metadata": {},
   "outputs": [
    {
     "data": {
      "text/plain": [
       "np.float64(14.991652616768292)"
      ]
     },
     "execution_count": 43,
     "metadata": {},
     "output_type": "execute_result"
    }
   ],
   "source": [
    "((count_test/seen_test)/(cout_control/seen_control)-1)*100"
   ]
  },
  {
   "cell_type": "code",
   "execution_count": null,
   "id": "806eac98-e8c7-4b3b-b750-a0026205c7f3",
   "metadata": {},
   "outputs": [],
   "source": []
  }
 ],
 "metadata": {
  "kernelspec": {
   "display_name": "Python [conda env:base] *",
   "language": "python",
   "name": "conda-base-py"
  },
  "language_info": {
   "codemirror_mode": {
    "name": "ipython",
    "version": 3
   },
   "file_extension": ".py",
   "mimetype": "text/x-python",
   "name": "python",
   "nbconvert_exporter": "python",
   "pygments_lexer": "ipython3",
   "version": "3.13.5"
  }
 },
 "nbformat": 4,
 "nbformat_minor": 5
}
