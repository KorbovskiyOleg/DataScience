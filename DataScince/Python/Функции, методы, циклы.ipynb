{
 "cells": [
  {
   "cell_type": "markdown",
   "id": "2159642e-e434-4a2d-9d6c-eb0f48f3452b",
   "metadata": {},
   "source": [
    "# Функции, методы и циклы"
   ]
  },
  {
   "cell_type": "markdown",
   "id": "44488b67-e6d4-4765-bdfb-e41713f0de53",
   "metadata": {},
   "source": [
    "## 1.1 Функции"
   ]
  },
  {
   "cell_type": "code",
   "execution_count": 4,
   "id": "11ef6e3c-24c1-4c57-a60c-1f7ede537b02",
   "metadata": {},
   "outputs": [
    {
     "data": {
      "text/plain": [
       "12"
      ]
     },
     "execution_count": 4,
     "metadata": {},
     "output_type": "execute_result"
    }
   ],
   "source": [
    "# Функция модуля числа\n",
    "abs(12)"
   ]
  },
  {
   "cell_type": "code",
   "execution_count": 2,
   "id": "02d63460-30d7-47e9-aafc-eea30cf5cbfe",
   "metadata": {},
   "outputs": [
    {
     "data": {
      "text/plain": [
       "12"
      ]
     },
     "execution_count": 2,
     "metadata": {},
     "output_type": "execute_result"
    }
   ],
   "source": [
    "abs(-12)"
   ]
  },
  {
   "cell_type": "code",
   "execution_count": 3,
   "id": "94f712e1-d025-4e35-85ba-cfaadc006c6d",
   "metadata": {},
   "outputs": [
    {
     "data": {
      "text/plain": [
       "3.1415"
      ]
     },
     "execution_count": 3,
     "metadata": {},
     "output_type": "execute_result"
    }
   ],
   "source": [
    "abs(-3.1415)"
   ]
  },
  {
   "cell_type": "code",
   "execution_count": 5,
   "id": "bd74654b-1da0-4685-8c6e-341b35568585",
   "metadata": {},
   "outputs": [
    {
     "ename": "NameError",
     "evalue": "name 'abc' is not defined",
     "output_type": "error",
     "traceback": [
      "\u001b[1;31m---------------------------------------------------------------------------\u001b[0m",
      "\u001b[1;31mNameError\u001b[0m                                 Traceback (most recent call last)",
      "Cell \u001b[1;32mIn[5], line 2\u001b[0m\n\u001b[0;32m      1\u001b[0m \u001b[38;5;66;03m# Со строками ошибка!\u001b[39;00m\n\u001b[1;32m----> 2\u001b[0m abc(\u001b[38;5;124m'\u001b[39m\u001b[38;5;124mas\u001b[39m\u001b[38;5;124m'\u001b[39m)\n",
      "\u001b[1;31mNameError\u001b[0m: name 'abc' is not defined"
     ]
    }
   ],
   "source": [
    "# Со строками ошибка!\n",
    "abc('as')"
   ]
  },
  {
   "cell_type": "markdown",
   "id": "14dfef25-25ce-482a-bc9f-2c681ce8b4fb",
   "metadata": {},
   "source": [
    "## Строки"
   ]
  },
  {
   "cell_type": "code",
   "execution_count": 10,
   "id": "3708bc56-1c10-4a27-9b86-f38fa6830fa9",
   "metadata": {},
   "outputs": [],
   "source": [
    "t = 'Привет! Это текст написан моими руками '"
   ]
  },
  {
   "cell_type": "code",
   "execution_count": 11,
   "id": "f6325010-1d31-4c9d-a4f5-02df45032b7c",
   "metadata": {},
   "outputs": [
    {
     "data": {
      "text/plain": [
       "'Привет! это текст написан моими руками '"
      ]
     },
     "execution_count": 11,
     "metadata": {},
     "output_type": "execute_result"
    }
   ],
   "source": [
    "# Первая буква заглавная\n",
    "t.capitalize()"
   ]
  },
  {
   "cell_type": "code",
   "execution_count": 13,
   "id": "b7cd5cda-a39d-47af-b7b8-543ad4eb094a",
   "metadata": {},
   "outputs": [
    {
     "data": {
      "text/plain": [
       "'Привёт! Это тёкст написан моими руками '"
      ]
     },
     "execution_count": 13,
     "metadata": {},
     "output_type": "execute_result"
    }
   ],
   "source": [
    "t.replace('е', 'ё')"
   ]
  },
  {
   "cell_type": "code",
   "execution_count": 14,
   "id": "4cdb8d8d-7aee-4502-9ffa-dcc8043aac15",
   "metadata": {},
   "outputs": [
    {
     "data": {
      "text/plain": [
       "'Привет! Это текст написан моими руками '"
      ]
     },
     "execution_count": 14,
     "metadata": {},
     "output_type": "execute_result"
    }
   ],
   "source": [
    "t"
   ]
  },
  {
   "cell_type": "code",
   "execution_count": 15,
   "id": "4ac0bcd5-993b-4dcc-a21c-492fc46eb245",
   "metadata": {},
   "outputs": [],
   "source": [
    "# Меняет все е на ё\n",
    "t = t.replace('е', 'ё')"
   ]
  },
  {
   "cell_type": "code",
   "execution_count": 16,
   "id": "dee6ba98-a8ff-4f49-9dcd-96770fcd69f2",
   "metadata": {},
   "outputs": [
    {
     "data": {
      "text/plain": [
       "'Привёт! Это тёкст написан моими руками '"
      ]
     },
     "execution_count": 16,
     "metadata": {},
     "output_type": "execute_result"
    }
   ],
   "source": [
    "t"
   ]
  },
  {
   "cell_type": "code",
   "execution_count": 17,
   "id": "dc8c0d5b-0d5d-41d7-8e24-bc285342f198",
   "metadata": {},
   "outputs": [
    {
     "data": {
      "text/plain": [
       "'Привёт! Это тёкст написан моими руками '"
      ]
     },
     "execution_count": 17,
     "metadata": {},
     "output_type": "execute_result"
    }
   ],
   "source": [
    "t"
   ]
  },
  {
   "cell_type": "code",
   "execution_count": 18,
   "id": "c1d5f417-09f7-4d9a-8a34-29b8f1909bcb",
   "metadata": {},
   "outputs": [
    {
     "data": {
      "text/plain": [
       "['Привёт!', 'Это', 'тёкст', 'написан', 'моими', 'руками']"
      ]
     },
     "execution_count": 18,
     "metadata": {},
     "output_type": "execute_result"
    }
   ],
   "source": [
    "# Разбивает  текст на строки\n",
    "word = t.split()\n",
    "word"
   ]
  },
  {
   "cell_type": "code",
   "execution_count": 19,
   "id": "cf329b93-486b-4297-9ec1-ca6ca58d28a0",
   "metadata": {},
   "outputs": [
    {
     "data": {
      "text/plain": [
       "'Привёт!_-_Это_-_тёкст_-_написан_-_моими'"
      ]
     },
     "execution_count": 19,
     "metadata": {},
     "output_type": "execute_result"
    }
   ],
   "source": [
    "# Вставляет элемент\n",
    "'_-_'.join(word[:-1])"
   ]
  },
  {
   "cell_type": "markdown",
   "id": "16519475-03e6-43cf-972f-af23db1dc02e",
   "metadata": {},
   "source": [
    "## Циклы"
   ]
  },
  {
   "cell_type": "code",
   "execution_count": 20,
   "id": "94d3896c-0161-4491-b00c-3796a8c9e11f",
   "metadata": {},
   "outputs": [
    {
     "data": {
      "text/plain": [
       "['trick', 2, 3, 4, 5]"
      ]
     },
     "execution_count": 20,
     "metadata": {},
     "output_type": "execute_result"
    }
   ],
   "source": [
    "many = ['trick',2,3,4,5]\n",
    "many"
   ]
  },
  {
   "cell_type": "code",
   "execution_count": 21,
   "id": "b86f3a64-2b86-42ac-aaf9-f5a1830cecf1",
   "metadata": {},
   "outputs": [
    {
     "data": {
      "text/plain": [
       "['trick', 2, 3, 4, 5, 'trick', 2, 3, 4, 5]"
      ]
     },
     "execution_count": 21,
     "metadata": {},
     "output_type": "execute_result"
    }
   ],
   "source": [
    "many*2"
   ]
  },
  {
   "cell_type": "code",
   "execution_count": 23,
   "id": "132fd0b3-0977-4a8e-bf09-37d8b7f1b5ea",
   "metadata": {},
   "outputs": [
    {
     "data": {
      "text/plain": [
       "['trick', 2, 3, 4, 5]"
      ]
     },
     "execution_count": 23,
     "metadata": {},
     "output_type": "execute_result"
    }
   ],
   "source": [
    "for i in many:\n",
    "    i = i*2\n",
    "many"
   ]
  },
  {
   "cell_type": "code",
   "execution_count": 24,
   "id": "694202ca-250f-4040-aa95-956002ef9b3e",
   "metadata": {},
   "outputs": [
    {
     "data": {
      "text/plain": [
       "['tricktrick', 4, 6, 8, 10]"
      ]
     },
     "execution_count": 24,
     "metadata": {},
     "output_type": "execute_result"
    }
   ],
   "source": [
    "mach =[]\n",
    "for i in many:\n",
    "    mach.append(i*2)\n",
    "mach"
   ]
  },
  {
   "cell_type": "code",
   "execution_count": 26,
   "id": "1032310d-d1bf-41d9-8c73-f3b0ff91b686",
   "metadata": {},
   "outputs": [
    {
     "data": {
      "text/plain": [
       "[4, 6, 8, 10]"
      ]
     },
     "execution_count": 26,
     "metadata": {},
     "output_type": "execute_result"
    }
   ],
   "source": [
    "mach =[]\n",
    "for i in many:\n",
    "    if type(i)==int:\n",
    "        mach.append(i*2)\n",
    "mach"
   ]
  },
  {
   "cell_type": "code",
   "execution_count": 27,
   "id": "c92a2407-31a9-4fe3-8f46-464eb2abb092",
   "metadata": {},
   "outputs": [
    {
     "data": {
      "text/plain": [
       "['trick', 4, 6, 8, 10]"
      ]
     },
     "execution_count": 27,
     "metadata": {},
     "output_type": "execute_result"
    }
   ],
   "source": [
    "mach =[]\n",
    "for i in many:\n",
    "    if type(i)==int:\n",
    "        mach.append(i*2)\n",
    "    else:\n",
    "        mach.append(i)\n",
    "mach"
   ]
  },
  {
   "cell_type": "code",
   "execution_count": 28,
   "id": "543ac548-d90d-4d42-b8d8-446f9a69edf4",
   "metadata": {},
   "outputs": [],
   "source": [
    "much = [i*2 for i in many]"
   ]
  },
  {
   "cell_type": "code",
   "execution_count": 29,
   "id": "896dc25e-2db8-49aa-a14e-243862041318",
   "metadata": {},
   "outputs": [
    {
     "data": {
      "text/plain": [
       "['tricktrick', 4, 6, 8, 10]"
      ]
     },
     "execution_count": 29,
     "metadata": {},
     "output_type": "execute_result"
    }
   ],
   "source": [
    "much"
   ]
  },
  {
   "cell_type": "code",
   "execution_count": 30,
   "id": "1b05c8ca-38cd-4f84-a778-cf5aed1fa2df",
   "metadata": {},
   "outputs": [],
   "source": [
    "much = [i*2 for i in many if type(i)==int]"
   ]
  },
  {
   "cell_type": "code",
   "execution_count": 31,
   "id": "1c946e72-5287-4422-ab92-927de739850e",
   "metadata": {},
   "outputs": [
    {
     "data": {
      "text/plain": [
       "[4, 6, 8, 10]"
      ]
     },
     "execution_count": 31,
     "metadata": {},
     "output_type": "execute_result"
    }
   ],
   "source": [
    "much"
   ]
  },
  {
   "cell_type": "code",
   "execution_count": 33,
   "id": "e6a4e4e2-ba1a-4c52-906d-d52492d8d03c",
   "metadata": {},
   "outputs": [
    {
     "data": {
      "text/plain": [
       "['trick', 4, 6, 8, 10]"
      ]
     },
     "execution_count": 33,
     "metadata": {},
     "output_type": "execute_result"
    }
   ],
   "source": [
    "much = [i*2 if type(i)==int else i for i in many]\n",
    "much"
   ]
  },
  {
   "cell_type": "markdown",
   "id": "6db15384-c72f-420b-8d74-cc826a3895b2",
   "metadata": {},
   "source": [
    "## Import\n"
   ]
  },
  {
   "cell_type": "code",
   "execution_count": 34,
   "id": "8c8a3ba1-b38d-4d67-aa6b-9f2c3d03ebdd",
   "metadata": {},
   "outputs": [
    {
     "ename": "NameError",
     "evalue": "name 'sqrt' is not defined",
     "output_type": "error",
     "traceback": [
      "\u001b[1;31m---------------------------------------------------------------------------\u001b[0m",
      "\u001b[1;31mNameError\u001b[0m                                 Traceback (most recent call last)",
      "Cell \u001b[1;32mIn[34], line 1\u001b[0m\n\u001b[1;32m----> 1\u001b[0m sqrt(\u001b[38;5;241m25\u001b[39m)\n",
      "\u001b[1;31mNameError\u001b[0m: name 'sqrt' is not defined"
     ]
    }
   ],
   "source": [
    "sqrt(25)"
   ]
  },
  {
   "cell_type": "code",
   "execution_count": 35,
   "id": "872b46b3-e88f-4016-b9d4-36c8a996151d",
   "metadata": {},
   "outputs": [],
   "source": [
    "import math"
   ]
  },
  {
   "cell_type": "code",
   "execution_count": 36,
   "id": "fad06e3c-45f0-4469-8be1-4620cac7da0a",
   "metadata": {},
   "outputs": [
    {
     "data": {
      "text/plain": [
       "2.0"
      ]
     },
     "execution_count": 36,
     "metadata": {},
     "output_type": "execute_result"
    }
   ],
   "source": [
    "math.sqrt(4)"
   ]
  },
  {
   "cell_type": "code",
   "execution_count": 37,
   "id": "af79dd1d-81d4-46c1-bf6c-db1a84e3f299",
   "metadata": {},
   "outputs": [
    {
     "data": {
      "text/plain": [
       "False"
      ]
     },
     "execution_count": 37,
     "metadata": {},
     "output_type": "execute_result"
    }
   ],
   "source": [
    "type(4)==(math.sqrt(2))"
   ]
  },
  {
   "cell_type": "code",
   "execution_count": 38,
   "id": "7450b221-5614-4f9c-9faa-0d207f2c564b",
   "metadata": {},
   "outputs": [],
   "source": [
    "from math import sqrt"
   ]
  },
  {
   "cell_type": "code",
   "execution_count": 39,
   "id": "127bd1a1-6151-4a19-8be6-2ed59c1e4b9d",
   "metadata": {},
   "outputs": [
    {
     "data": {
      "text/plain": [
       "2.0"
      ]
     },
     "execution_count": 39,
     "metadata": {},
     "output_type": "execute_result"
    }
   ],
   "source": [
    "sqrt(4)"
   ]
  },
  {
   "cell_type": "code",
   "execution_count": 40,
   "id": "9d8f2578-350a-4849-9113-b80d09e45023",
   "metadata": {},
   "outputs": [],
   "source": [
    "from math import sqrt as square_root"
   ]
  },
  {
   "cell_type": "code",
   "execution_count": 41,
   "id": "14b90101-1846-459b-bf53-e679868f6eac",
   "metadata": {},
   "outputs": [
    {
     "data": {
      "text/plain": [
       "2.0"
      ]
     },
     "execution_count": 41,
     "metadata": {},
     "output_type": "execute_result"
    }
   ],
   "source": [
    "square_root(4)"
   ]
  },
  {
   "cell_type": "code",
   "execution_count": 42,
   "id": "1967eec1-5b8f-4464-b4f4-81b80480b5ab",
   "metadata": {},
   "outputs": [],
   "source": [
    "sr = square_root"
   ]
  },
  {
   "cell_type": "code",
   "execution_count": 43,
   "id": "e62300e1-30e6-4723-8820-1beb130568c2",
   "metadata": {},
   "outputs": [
    {
     "data": {
      "text/plain": [
       "2.0"
      ]
     },
     "execution_count": 43,
     "metadata": {},
     "output_type": "execute_result"
    }
   ],
   "source": [
    "sr(4)"
   ]
  },
  {
   "cell_type": "code",
   "execution_count": null,
   "id": "f620c177-c164-4c67-bbdf-a9bed7fd3a2e",
   "metadata": {},
   "outputs": [],
   "source": []
  }
 ],
 "metadata": {
  "kernelspec": {
   "display_name": "Python [conda env:base] *",
   "language": "python",
   "name": "conda-base-py"
  },
  "language_info": {
   "codemirror_mode": {
    "name": "ipython",
    "version": 3
   },
   "file_extension": ".py",
   "mimetype": "text/x-python",
   "name": "python",
   "nbconvert_exporter": "python",
   "pygments_lexer": "ipython3",
   "version": "3.13.5"
  }
 },
 "nbformat": 4,
 "nbformat_minor": 5
}
