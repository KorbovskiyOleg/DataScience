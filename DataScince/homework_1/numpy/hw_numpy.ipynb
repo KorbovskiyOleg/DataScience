{
 "cells": [
  {
   "cell_type": "markdown",
   "id": "24b12525-f24c-40bc-8368-75e5a1cc91b9",
   "metadata": {},
   "source": [
    "# Тема “Вычисления с помощью Numpy”\n"
   ]
  },
  {
   "cell_type": "markdown",
   "id": "02b94b00-1cbc-42a4-a343-70d0ee24dc3e",
   "metadata": {},
   "source": [
    "## Задание 1\n",
    "Импортируйте библиотеку Numpy и дайте ей псевдоним np.\n",
    "Создайте массив Numpy под названием a размером 5x2, то есть состоящий из 5 строк и 2 столбцов. Первый столбец должен содержать числа 1, 2, 3, 3, 1, а второй - числа 6, 8, 11, 10, 7. Будем считать, что каждый столбец - это признак, а строка - наблюдение. Затем найдите среднее значение по каждому признаку, используя метод mean массива Numpy. Результат запишите в массив mean_a, в нем должно быть 2 элемента."
   ]
  },
  {
   "cell_type": "code",
   "execution_count": 1,
   "id": "1300bf39-240d-4c2f-9ef6-8e1cf79f78d4",
   "metadata": {},
   "outputs": [],
   "source": [
    "import numpy as np"
   ]
  },
  {
   "cell_type": "code",
   "execution_count": 18,
   "id": "d5a10eb0-5f18-4988-971c-35eb3e2884d0",
   "metadata": {},
   "outputs": [],
   "source": [
    "quantity_sing = 2\n",
    "quantity_observ = 5"
   ]
  },
  {
   "cell_type": "code",
   "execution_count": 2,
   "id": "96a78a97-e537-48ca-8091-ffc9b1227846",
   "metadata": {},
   "outputs": [
    {
     "data": {
      "text/plain": [
       "array([[ 1,  6],\n",
       "       [ 2,  8],\n",
       "       [ 3, 11],\n",
       "       [ 3, 10],\n",
       "       [ 1,  7]])"
      ]
     },
     "execution_count": 2,
     "metadata": {},
     "output_type": "execute_result"
    }
   ],
   "source": [
    "a  = np.array([[1,6],\n",
    "               [2,8],\n",
    "               [3,11],\n",
    "               [3,10],\n",
    "               [1,7]])\n",
    "a"
   ]
  },
  {
   "cell_type": "code",
   "execution_count": 12,
   "id": "b359cd48-648b-4bff-8e98-c7934f318c51",
   "metadata": {
    "editable": true,
    "slideshow": {
     "slide_type": ""
    },
    "tags": []
   },
   "outputs": [
    {
     "data": {
      "text/plain": [
       "array([2. , 8.4])"
      ]
     },
     "execution_count": 12,
     "metadata": {},
     "output_type": "execute_result"
    }
   ],
   "source": [
    "mean_sing_1 = a[:,0].mean()\n",
    "mean_sing_2 = a[:,1].mean()\n",
    "mean_a = np.array([mean_sing_1,mean_sing_2])\n",
    "mean_a\n"
   ]
  },
  {
   "cell_type": "code",
   "execution_count": 10,
   "id": "e675dc48-e324-453e-b8ff-2558471b4f0a",
   "metadata": {},
   "outputs": [
    {
     "data": {
      "text/plain": [
       "numpy.ndarray"
      ]
     },
     "execution_count": 10,
     "metadata": {},
     "output_type": "execute_result"
    }
   ],
   "source": [
    "type(mean_a)"
   ]
  },
  {
   "cell_type": "markdown",
   "id": "732c67e0-3c5a-41e0-a56c-b2305a30fb53",
   "metadata": {
    "editable": true,
    "slideshow": {
     "slide_type": ""
    },
    "tags": []
   },
   "source": [
    "## Задание 2\n",
    "Вычислите массив a_centered, отняв от значений массива “а” средние значения соответствующих признаков, содержащиеся в массиве mean_a. Вычисление должно производиться в одно действие. Получившийся массив должен иметь размер 5x2.\n"
   ]
  },
  {
   "cell_type": "code",
   "execution_count": 8,
   "id": "5009c764-018b-4a0c-9f44-7d4a23c88529",
   "metadata": {},
   "outputs": [
    {
     "data": {
      "text/plain": [
       "array([[-1. , -2.4],\n",
       "       [ 0. , -0.4],\n",
       "       [ 1. ,  2.6],\n",
       "       [ 1. ,  1.6],\n",
       "       [-1. , -1.4]])"
      ]
     },
     "execution_count": 8,
     "metadata": {},
     "output_type": "execute_result"
    }
   ],
   "source": [
    "a_centered = a - mean_a\n",
    "a_centered"
   ]
  },
  {
   "cell_type": "code",
   "execution_count": 9,
   "id": "0baf1413-fbc1-4afa-93d5-cf712a9231f8",
   "metadata": {},
   "outputs": [
    {
     "data": {
      "text/plain": [
       "numpy.ndarray"
      ]
     },
     "execution_count": 9,
     "metadata": {},
     "output_type": "execute_result"
    }
   ],
   "source": [
    "type(a_centered)"
   ]
  },
  {
   "cell_type": "markdown",
   "id": "b865173a-cfad-4816-a326-31cd1cffbc0d",
   "metadata": {},
   "source": [
    "## Задание 3\n",
    "Найдите скалярное произведение столбцов массива a_centered. В результате должна получиться величина a_centered_sp. Затем поделите a_centered_sp на N-1, где N - число наблюдений.\n"
   ]
  },
  {
   "cell_type": "code",
   "execution_count": 19,
   "id": "f0cf6c24-8dfb-4c75-9750-58f6f4b309e7",
   "metadata": {},
   "outputs": [
    {
     "data": {
      "text/plain": [
       "np.float64(1.6)"
      ]
     },
     "execution_count": 19,
     "metadata": {},
     "output_type": "execute_result"
    }
   ],
   "source": [
    "a_centered_sp = np.dot(a_centered[:,0],a_centered[:,1])\n",
    "cov = a_centered_sp/quantity_observ\n",
    "cov"
   ]
  },
  {
   "cell_type": "code",
   "execution_count": 1,
   "id": "abcc3adc-75db-4f3c-a53c-538191062877",
   "metadata": {},
   "outputs": [
    {
     "name": "stderr",
     "output_type": "stream",
     "text": [
      "ERROR: Could not find a version that satisfies the requirement ipython-git (from versions: none)\n",
      "ERROR: No matching distribution found for ipython-git\n"
     ]
    }
   ],
   "source": [
    "!pip install ipython-git"
   ]
  },
  {
   "cell_type": "code",
   "execution_count": 2,
   "id": "7e8917d5-1e68-43dd-b1da-f3e029517bdf",
   "metadata": {},
   "outputs": [
    {
     "name": "stdout",
     "output_type": "stream",
     "text": [
      "On branch main\n",
      "Your branch is up to date with 'origin/main'.\n",
      "\n",
      "Changes not staged for commit:\n",
      "  (use \"git add <file>...\" to update what will be committed)\n",
      "  (use \"git restore <file>...\" to discard changes in working directory)\n",
      "\tmodified:   hw_numpy.ipynb\n",
      "\n",
      "Untracked files:\n",
      "  (use \"git add <file>...\" to include in what will be committed)\n",
      "\t../pandas/book_info.pkl\n",
      "\n",
      "no changes added to commit (use \"git add\" and/or \"git commit -a\")\n"
     ]
    }
   ],
   "source": [
    "!git status"
   ]
  },
  {
   "cell_type": "code",
   "execution_count": 3,
   "id": "d3703201-03ec-4956-b498-dea88eef68f2",
   "metadata": {},
   "outputs": [
    {
     "name": "stderr",
     "output_type": "stream",
     "text": [
      "warning: in the working copy of 'DataScince/homework_1/numpy/hw_numpy.ipynb', LF will be replaced by CRLF the next time Git touches it\n"
     ]
    }
   ],
   "source": [
    "!git add hw_numpy.ipynb"
   ]
  },
  {
   "cell_type": "code",
   "execution_count": 4,
   "id": "5db7d8f8-9f1f-419d-a0a5-b3bebc77bf2b",
   "metadata": {},
   "outputs": [
    {
     "name": "stdout",
     "output_type": "stream",
     "text": [
      "[main 3a79b83] Update: completed numpy exercises\n",
      " 1 file changed, 57 insertions(+)\n"
     ]
    }
   ],
   "source": [
    "!git commit -m \"Update: completed numpy exercises\""
   ]
  },
  {
   "cell_type": "code",
   "execution_count": 5,
   "id": "360b23ae-0ed9-45bf-ab4d-0abbe4680e04",
   "metadata": {},
   "outputs": [
    {
     "name": "stderr",
     "output_type": "stream",
     "text": [
      "To https://github.com/KorbovskiyOleg/DataScience.git\n",
      "   ad44d32..3a79b83  main -> main\n"
     ]
    }
   ],
   "source": [
    "!git push origin main"
   ]
  },
  {
   "cell_type": "code",
   "execution_count": 1,
   "id": "0aeddf62-0875-4b8f-b854-44a9595dcc8f",
   "metadata": {},
   "outputs": [
    {
     "name": "stdout",
     "output_type": "stream",
     "text": [
      "Collecting jupyterlab-git\n",
      "  Downloading jupyterlab_git-0.51.2-py3-none-any.whl.metadata (32 kB)\n",
      "Requirement already satisfied: jupyter-server<3,>=2.0.1 in c:\\datascience\\lib\\site-packages (from jupyterlab-git) (2.15.0)\n",
      "Collecting nbdime~=4.0.1 (from jupyterlab-git)\n",
      "  Downloading nbdime-4.0.2-py3-none-any.whl.metadata (9.5 kB)\n",
      "Requirement already satisfied: nbformat in c:\\datascience\\lib\\site-packages (from jupyterlab-git) (5.10.4)\n",
      "Requirement already satisfied: packaging in c:\\datascience\\lib\\site-packages (from jupyterlab-git) (24.2)\n",
      "Requirement already satisfied: pexpect in c:\\datascience\\lib\\site-packages (from jupyterlab-git) (4.8.0)\n",
      "Requirement already satisfied: traitlets~=5.0 in c:\\datascience\\lib\\site-packages (from jupyterlab-git) (5.14.3)\n",
      "Requirement already satisfied: anyio>=3.1.0 in c:\\datascience\\lib\\site-packages (from jupyter-server<3,>=2.0.1->jupyterlab-git) (4.7.0)\n",
      "Requirement already satisfied: argon2-cffi>=21.1 in c:\\datascience\\lib\\site-packages (from jupyter-server<3,>=2.0.1->jupyterlab-git) (21.3.0)\n",
      "Requirement already satisfied: jinja2>=3.0.3 in c:\\datascience\\lib\\site-packages (from jupyter-server<3,>=2.0.1->jupyterlab-git) (3.1.6)\n",
      "Requirement already satisfied: jupyter-client>=7.4.4 in c:\\datascience\\lib\\site-packages (from jupyter-server<3,>=2.0.1->jupyterlab-git) (8.6.3)\n",
      "Requirement already satisfied: jupyter-core!=5.0.*,>=4.12 in c:\\datascience\\lib\\site-packages (from jupyter-server<3,>=2.0.1->jupyterlab-git) (5.7.2)\n",
      "Requirement already satisfied: jupyter-events>=0.11.0 in c:\\datascience\\lib\\site-packages (from jupyter-server<3,>=2.0.1->jupyterlab-git) (0.12.0)\n",
      "Requirement already satisfied: jupyter-server-terminals>=0.4.4 in c:\\datascience\\lib\\site-packages (from jupyter-server<3,>=2.0.1->jupyterlab-git) (0.5.3)\n",
      "Requirement already satisfied: nbconvert>=6.4.4 in c:\\datascience\\lib\\site-packages (from jupyter-server<3,>=2.0.1->jupyterlab-git) (7.16.6)\n",
      "Requirement already satisfied: overrides>=5.0 in c:\\datascience\\lib\\site-packages (from jupyter-server<3,>=2.0.1->jupyterlab-git) (7.4.0)\n",
      "Requirement already satisfied: prometheus-client>=0.9 in c:\\datascience\\lib\\site-packages (from jupyter-server<3,>=2.0.1->jupyterlab-git) (0.21.1)\n",
      "Requirement already satisfied: pywinpty>=2.0.1 in c:\\datascience\\lib\\site-packages (from jupyter-server<3,>=2.0.1->jupyterlab-git) (2.0.15)\n",
      "Requirement already satisfied: pyzmq>=24 in c:\\datascience\\lib\\site-packages (from jupyter-server<3,>=2.0.1->jupyterlab-git) (26.2.0)\n",
      "Requirement already satisfied: send2trash>=1.8.2 in c:\\datascience\\lib\\site-packages (from jupyter-server<3,>=2.0.1->jupyterlab-git) (1.8.2)\n",
      "Requirement already satisfied: terminado>=0.8.3 in c:\\datascience\\lib\\site-packages (from jupyter-server<3,>=2.0.1->jupyterlab-git) (0.17.1)\n",
      "Requirement already satisfied: tornado>=6.2.0 in c:\\datascience\\lib\\site-packages (from jupyter-server<3,>=2.0.1->jupyterlab-git) (6.5.1)\n",
      "Requirement already satisfied: websocket-client>=1.7 in c:\\datascience\\lib\\site-packages (from jupyter-server<3,>=2.0.1->jupyterlab-git) (1.8.0)\n",
      "Requirement already satisfied: colorama in c:\\datascience\\lib\\site-packages (from nbdime~=4.0.1->jupyterlab-git) (0.4.6)\n",
      "Requirement already satisfied: gitpython!=2.1.4,!=2.1.5,!=2.1.6 in c:\\datascience\\lib\\site-packages (from nbdime~=4.0.1->jupyterlab-git) (3.1.43)\n",
      "Collecting jupyter-server-mathjax>=0.2.2 (from nbdime~=4.0.1->jupyterlab-git)\n",
      "  Downloading jupyter_server_mathjax-0.2.6-py3-none-any.whl.metadata (2.1 kB)\n",
      "Requirement already satisfied: pygments in c:\\datascience\\lib\\site-packages (from nbdime~=4.0.1->jupyterlab-git) (2.19.1)\n",
      "Requirement already satisfied: requests in c:\\datascience\\lib\\site-packages (from nbdime~=4.0.1->jupyterlab-git) (2.32.3)\n",
      "Requirement already satisfied: idna>=2.8 in c:\\datascience\\lib\\site-packages (from anyio>=3.1.0->jupyter-server<3,>=2.0.1->jupyterlab-git) (3.7)\n",
      "Requirement already satisfied: sniffio>=1.1 in c:\\datascience\\lib\\site-packages (from anyio>=3.1.0->jupyter-server<3,>=2.0.1->jupyterlab-git) (1.3.0)\n",
      "Requirement already satisfied: argon2-cffi-bindings in c:\\datascience\\lib\\site-packages (from argon2-cffi>=21.1->jupyter-server<3,>=2.0.1->jupyterlab-git) (21.2.0)\n",
      "Requirement already satisfied: gitdb<5,>=4.0.1 in c:\\datascience\\lib\\site-packages (from gitpython!=2.1.4,!=2.1.5,!=2.1.6->nbdime~=4.0.1->jupyterlab-git) (4.0.7)\n",
      "Requirement already satisfied: smmap<5,>=3.0.1 in c:\\datascience\\lib\\site-packages (from gitdb<5,>=4.0.1->gitpython!=2.1.4,!=2.1.5,!=2.1.6->nbdime~=4.0.1->jupyterlab-git) (4.0.0)\n",
      "Requirement already satisfied: MarkupSafe>=2.0 in c:\\datascience\\lib\\site-packages (from jinja2>=3.0.3->jupyter-server<3,>=2.0.1->jupyterlab-git) (3.0.2)\n",
      "Requirement already satisfied: python-dateutil>=2.8.2 in c:\\datascience\\lib\\site-packages (from jupyter-client>=7.4.4->jupyter-server<3,>=2.0.1->jupyterlab-git) (2.9.0.post0)\n",
      "Requirement already satisfied: platformdirs>=2.5 in c:\\datascience\\lib\\site-packages (from jupyter-core!=5.0.*,>=4.12->jupyter-server<3,>=2.0.1->jupyterlab-git) (4.3.7)\n",
      "Requirement already satisfied: pywin32>=300 in c:\\datascience\\lib\\site-packages (from jupyter-core!=5.0.*,>=4.12->jupyter-server<3,>=2.0.1->jupyterlab-git) (308)\n",
      "Requirement already satisfied: jsonschema>=4.18.0 in c:\\datascience\\lib\\site-packages (from jsonschema[format-nongpl]>=4.18.0->jupyter-events>=0.11.0->jupyter-server<3,>=2.0.1->jupyterlab-git) (4.23.0)\n",
      "Requirement already satisfied: python-json-logger>=2.0.4 in c:\\datascience\\lib\\site-packages (from jupyter-events>=0.11.0->jupyter-server<3,>=2.0.1->jupyterlab-git) (3.2.1)\n",
      "Requirement already satisfied: pyyaml>=5.3 in c:\\datascience\\lib\\site-packages (from jupyter-events>=0.11.0->jupyter-server<3,>=2.0.1->jupyterlab-git) (6.0.2)\n",
      "Requirement already satisfied: referencing in c:\\datascience\\lib\\site-packages (from jupyter-events>=0.11.0->jupyter-server<3,>=2.0.1->jupyterlab-git) (0.30.2)\n",
      "Requirement already satisfied: rfc3339-validator in c:\\datascience\\lib\\site-packages (from jupyter-events>=0.11.0->jupyter-server<3,>=2.0.1->jupyterlab-git) (0.1.4)\n",
      "Requirement already satisfied: rfc3986-validator>=0.1.1 in c:\\datascience\\lib\\site-packages (from jupyter-events>=0.11.0->jupyter-server<3,>=2.0.1->jupyterlab-git) (0.1.1)\n",
      "Requirement already satisfied: attrs>=22.2.0 in c:\\datascience\\lib\\site-packages (from jsonschema>=4.18.0->jsonschema[format-nongpl]>=4.18.0->jupyter-events>=0.11.0->jupyter-server<3,>=2.0.1->jupyterlab-git) (24.3.0)\n",
      "Requirement already satisfied: jsonschema-specifications>=2023.03.6 in c:\\datascience\\lib\\site-packages (from jsonschema>=4.18.0->jsonschema[format-nongpl]>=4.18.0->jupyter-events>=0.11.0->jupyter-server<3,>=2.0.1->jupyterlab-git) (2023.7.1)\n",
      "Requirement already satisfied: rpds-py>=0.7.1 in c:\\datascience\\lib\\site-packages (from jsonschema>=4.18.0->jsonschema[format-nongpl]>=4.18.0->jupyter-events>=0.11.0->jupyter-server<3,>=2.0.1->jupyterlab-git) (0.22.3)\n",
      "Collecting fqdn (from jsonschema[format-nongpl]>=4.18.0->jupyter-events>=0.11.0->jupyter-server<3,>=2.0.1->jupyterlab-git)\n",
      "  Downloading fqdn-1.5.1-py3-none-any.whl.metadata (1.4 kB)\n",
      "Collecting isoduration (from jsonschema[format-nongpl]>=4.18.0->jupyter-events>=0.11.0->jupyter-server<3,>=2.0.1->jupyterlab-git)\n",
      "  Downloading isoduration-20.11.0-py3-none-any.whl.metadata (5.7 kB)\n",
      "Requirement already satisfied: jsonpointer>1.13 in c:\\datascience\\lib\\site-packages (from jsonschema[format-nongpl]>=4.18.0->jupyter-events>=0.11.0->jupyter-server<3,>=2.0.1->jupyterlab-git) (2.1)\n",
      "Collecting uri-template (from jsonschema[format-nongpl]>=4.18.0->jupyter-events>=0.11.0->jupyter-server<3,>=2.0.1->jupyterlab-git)\n",
      "  Downloading uri_template-1.3.0-py3-none-any.whl.metadata (8.8 kB)\n",
      "Collecting webcolors>=24.6.0 (from jsonschema[format-nongpl]>=4.18.0->jupyter-events>=0.11.0->jupyter-server<3,>=2.0.1->jupyterlab-git)\n",
      "  Downloading webcolors-24.11.1-py3-none-any.whl.metadata (2.2 kB)\n",
      "Requirement already satisfied: beautifulsoup4 in c:\\datascience\\lib\\site-packages (from nbconvert>=6.4.4->jupyter-server<3,>=2.0.1->jupyterlab-git) (4.12.3)\n",
      "Requirement already satisfied: bleach!=5.0.0 in c:\\datascience\\lib\\site-packages (from bleach[css]!=5.0.0->nbconvert>=6.4.4->jupyter-server<3,>=2.0.1->jupyterlab-git) (6.2.0)\n",
      "Requirement already satisfied: defusedxml in c:\\datascience\\lib\\site-packages (from nbconvert>=6.4.4->jupyter-server<3,>=2.0.1->jupyterlab-git) (0.7.1)\n",
      "Requirement already satisfied: jupyterlab-pygments in c:\\datascience\\lib\\site-packages (from nbconvert>=6.4.4->jupyter-server<3,>=2.0.1->jupyterlab-git) (0.3.0)\n",
      "Requirement already satisfied: mistune<4,>=2.0.3 in c:\\datascience\\lib\\site-packages (from nbconvert>=6.4.4->jupyter-server<3,>=2.0.1->jupyterlab-git) (3.1.2)\n",
      "Requirement already satisfied: nbclient>=0.5.0 in c:\\datascience\\lib\\site-packages (from nbconvert>=6.4.4->jupyter-server<3,>=2.0.1->jupyterlab-git) (0.10.2)\n",
      "Requirement already satisfied: pandocfilters>=1.4.1 in c:\\datascience\\lib\\site-packages (from nbconvert>=6.4.4->jupyter-server<3,>=2.0.1->jupyterlab-git) (1.5.0)\n",
      "Requirement already satisfied: webencodings in c:\\datascience\\lib\\site-packages (from bleach!=5.0.0->bleach[css]!=5.0.0->nbconvert>=6.4.4->jupyter-server<3,>=2.0.1->jupyterlab-git) (0.5.1)\n",
      "Requirement already satisfied: tinycss2<1.5,>=1.1.0 in c:\\datascience\\lib\\site-packages (from bleach[css]!=5.0.0->nbconvert>=6.4.4->jupyter-server<3,>=2.0.1->jupyterlab-git) (1.4.0)\n",
      "Requirement already satisfied: fastjsonschema>=2.15 in c:\\datascience\\lib\\site-packages (from nbformat->jupyterlab-git) (2.20.0)\n",
      "Requirement already satisfied: six>=1.5 in c:\\datascience\\lib\\site-packages (from python-dateutil>=2.8.2->jupyter-client>=7.4.4->jupyter-server<3,>=2.0.1->jupyterlab-git) (1.17.0)\n",
      "Requirement already satisfied: cffi>=1.0.1 in c:\\datascience\\lib\\site-packages (from argon2-cffi-bindings->argon2-cffi>=21.1->jupyter-server<3,>=2.0.1->jupyterlab-git) (1.17.1)\n",
      "Requirement already satisfied: pycparser in c:\\datascience\\lib\\site-packages (from cffi>=1.0.1->argon2-cffi-bindings->argon2-cffi>=21.1->jupyter-server<3,>=2.0.1->jupyterlab-git) (2.21)\n",
      "Requirement already satisfied: soupsieve>1.2 in c:\\datascience\\lib\\site-packages (from beautifulsoup4->nbconvert>=6.4.4->jupyter-server<3,>=2.0.1->jupyterlab-git) (2.5)\n",
      "Requirement already satisfied: arrow>=0.15.0 in c:\\datascience\\lib\\site-packages (from isoduration->jsonschema[format-nongpl]>=4.18.0->jupyter-events>=0.11.0->jupyter-server<3,>=2.0.1->jupyterlab-git) (1.3.0)\n",
      "Requirement already satisfied: ptyprocess>=0.5 in c:\\datascience\\lib\\site-packages (from pexpect->jupyterlab-git) (0.7.0)\n",
      "Requirement already satisfied: charset-normalizer<4,>=2 in c:\\datascience\\lib\\site-packages (from requests->nbdime~=4.0.1->jupyterlab-git) (3.3.2)\n",
      "Requirement already satisfied: urllib3<3,>=1.21.1 in c:\\datascience\\lib\\site-packages (from requests->nbdime~=4.0.1->jupyterlab-git) (2.3.0)\n",
      "Requirement already satisfied: certifi>=2017.4.17 in c:\\datascience\\lib\\site-packages (from requests->nbdime~=4.0.1->jupyterlab-git) (2025.8.3)\n",
      "Downloading jupyterlab_git-0.51.2-py3-none-any.whl (367 kB)\n",
      "Downloading nbdime-4.0.2-py3-none-any.whl (5.9 MB)\n",
      "   ---------------------------------------- 0.0/5.9 MB ? eta -:--:--\n",
      "   ---------------------------------------- 0.0/5.9 MB ? eta -:--:--\n",
      "   - -------------------------------------- 0.3/5.9 MB ? eta -:--:--\n",
      "   - -------------------------------------- 0.3/5.9 MB ? eta -:--:--\n",
      "   - -------------------------------------- 0.3/5.9 MB ? eta -:--:--\n",
      "   - -------------------------------------- 0.3/5.9 MB ? eta -:--:--\n",
      "   - -------------------------------------- 0.3/5.9 MB ? eta -:--:--\n",
      "   --- ------------------------------------ 0.5/5.9 MB 234.0 kB/s eta 0:00:24\n",
      "   ----- ---------------------------------- 0.8/5.9 MB 374.3 kB/s eta 0:00:14\n",
      "   -------- ------------------------------- 1.3/5.9 MB 676.3 kB/s eta 0:00:07\n",
      "   ---------- ----------------------------- 1.6/5.9 MB 748.6 kB/s eta 0:00:06\n",
      "   ---------- ----------------------------- 1.6/5.9 MB 748.6 kB/s eta 0:00:06\n",
      "   ---------- ----------------------------- 1.6/5.9 MB 748.6 kB/s eta 0:00:06\n",
      "   ---------- ----------------------------- 1.6/5.9 MB 748.6 kB/s eta 0:00:06\n",
      "   -------------- ------------------------- 2.1/5.9 MB 673.3 kB/s eta 0:00:06\n",
      "   --------------- ------------------------ 2.4/5.9 MB 726.5 kB/s eta 0:00:05\n",
      "   --------------- ------------------------ 2.4/5.9 MB 726.5 kB/s eta 0:00:05\n",
      "   --------------- ------------------------ 2.4/5.9 MB 726.5 kB/s eta 0:00:05\n",
      "   --------------- ------------------------ 2.4/5.9 MB 726.5 kB/s eta 0:00:05\n",
      "   --------------- ------------------------ 2.4/5.9 MB 726.5 kB/s eta 0:00:05\n",
      "   ----------------- ---------------------- 2.6/5.9 MB 594.7 kB/s eta 0:00:06\n",
      "   --------------------- ------------------ 3.1/5.9 MB 683.1 kB/s eta 0:00:05\n",
      "   --------------------- ------------------ 3.1/5.9 MB 683.1 kB/s eta 0:00:05\n",
      "   --------------------- ------------------ 3.1/5.9 MB 683.1 kB/s eta 0:00:05\n",
      "   --------------------- ------------------ 3.1/5.9 MB 683.1 kB/s eta 0:00:05\n",
      "   --------------------- ------------------ 3.1/5.9 MB 683.1 kB/s eta 0:00:05\n",
      "   --------------------- ------------------ 3.1/5.9 MB 683.1 kB/s eta 0:00:05\n",
      "   ----------------------- ---------------- 3.4/5.9 MB 588.2 kB/s eta 0:00:05\n",
      "   ------------------------ --------------- 3.7/5.9 MB 605.0 kB/s eta 0:00:04\n",
      "   ---------------------------- ----------- 4.2/5.9 MB 667.5 kB/s eta 0:00:03\n",
      "   ------------------------------ --------- 4.5/5.9 MB 690.8 kB/s eta 0:00:03\n",
      "   ------------------------------- -------- 4.7/5.9 MB 717.7 kB/s eta 0:00:02\n",
      "   ------------------------------- -------- 4.7/5.9 MB 717.7 kB/s eta 0:00:02\n",
      "   ------------------------------- -------- 4.7/5.9 MB 717.7 kB/s eta 0:00:02\n",
      "   ------------------------------- -------- 4.7/5.9 MB 717.7 kB/s eta 0:00:02\n",
      "   ------------------------------- -------- 4.7/5.9 MB 717.7 kB/s eta 0:00:02\n",
      "   ------------------------------- -------- 4.7/5.9 MB 717.7 kB/s eta 0:00:02\n",
      "   --------------------------------- ------ 5.0/5.9 MB 627.6 kB/s eta 0:00:02\n",
      "   ----------------------------------- ---- 5.2/5.9 MB 636.1 kB/s eta 0:00:02\n",
      "   ----------------------------------- ---- 5.2/5.9 MB 636.1 kB/s eta 0:00:02\n",
      "   -------------------------------------- - 5.8/5.9 MB 663.1 kB/s eta 0:00:01\n",
      "   ---------------------------------------- 5.9/5.9 MB 669.1 kB/s eta 0:00:00\n",
      "Downloading jupyter_server_mathjax-0.2.6-py3-none-any.whl (3.1 MB)\n",
      "   ---------------------------------------- 0.0/3.1 MB ? eta -:--:--\n",
      "   --- ------------------------------------ 0.3/3.1 MB ? eta -:--:--\n",
      "   ------ --------------------------------- 0.5/3.1 MB 1.2 MB/s eta 0:00:03\n",
      "   ---------- ----------------------------- 0.8/3.1 MB 1.3 MB/s eta 0:00:02\n",
      "   ------------- -------------------------- 1.0/3.1 MB 1.4 MB/s eta 0:00:02\n",
      "   ---------------- ----------------------- 1.3/3.1 MB 1.3 MB/s eta 0:00:02\n",
      "   -------------------- ------------------- 1.6/3.1 MB 1.3 MB/s eta 0:00:02\n",
      "   -------------------- ------------------- 1.6/3.1 MB 1.3 MB/s eta 0:00:02\n",
      "   ----------------------- ---------------- 1.8/3.1 MB 1.1 MB/s eta 0:00:02\n",
      "   -------------------------- ------------- 2.1/3.1 MB 1.1 MB/s eta 0:00:01\n",
      "   ------------------------------ --------- 2.4/3.1 MB 1.2 MB/s eta 0:00:01\n",
      "   --------------------------------- ------ 2.6/3.1 MB 1.2 MB/s eta 0:00:01\n",
      "   ---------------------------------------- 3.1/3.1 MB 1.2 MB/s eta 0:00:00\n",
      "Downloading webcolors-24.11.1-py3-none-any.whl (14 kB)\n",
      "Downloading fqdn-1.5.1-py3-none-any.whl (9.1 kB)\n",
      "Downloading isoduration-20.11.0-py3-none-any.whl (11 kB)\n",
      "Downloading uri_template-1.3.0-py3-none-any.whl (11 kB)\n",
      "Installing collected packages: webcolors, uri-template, fqdn, isoduration, jupyter-server-mathjax, nbdime, jupyterlab-git\n",
      "\n",
      "   ----------------- ---------------------- 3/7 [isoduration]\n",
      "   ---------------------- ----------------- 4/7 [jupyter-server-mathjax]\n",
      "   ---------------------- ----------------- 4/7 [jupyter-server-mathjax]\n",
      "   ---------------------------- ----------- 5/7 [nbdime]\n",
      "   ---------------------------- ----------- 5/7 [nbdime]\n",
      "   ---------------------------- ----------- 5/7 [nbdime]\n",
      "   ---------------------------- ----------- 5/7 [nbdime]\n",
      "   ---------------------------- ----------- 5/7 [nbdime]\n",
      "   ---------------------------- ----------- 5/7 [nbdime]\n",
      "   ---------------------------- ----------- 5/7 [nbdime]\n",
      "   ---------------------------- ----------- 5/7 [nbdime]\n",
      "   ---------------------------- ----------- 5/7 [nbdime]\n",
      "   ---------------------------- ----------- 5/7 [nbdime]\n",
      "   ---------------------------- ----------- 5/7 [nbdime]\n",
      "   ---------------------------------- ----- 6/7 [jupyterlab-git]\n",
      "   ---------------------------------- ----- 6/7 [jupyterlab-git]\n",
      "   ---------------------------------------- 7/7 [jupyterlab-git]\n",
      "\n",
      "Successfully installed fqdn-1.5.1 isoduration-20.11.0 jupyter-server-mathjax-0.2.6 jupyterlab-git-0.51.2 nbdime-4.0.2 uri-template-1.3.0 webcolors-24.11.1\n"
     ]
    }
   ],
   "source": [
    "!pip install jupyterlab-git"
   ]
  },
  {
   "cell_type": "code",
   "execution_count": 2,
   "id": "d788b099-193a-4223-85cd-0a8ee84496e2",
   "metadata": {},
   "outputs": [
    {
     "name": "stdout",
     "output_type": "stream",
     "text": [
      "Requirement already satisfied: jupyterlab-git in c:\\datascience\\lib\\site-packages (0.51.2)\n",
      "Requirement already satisfied: jupyter-server<3,>=2.0.1 in c:\\datascience\\lib\\site-packages (from jupyterlab-git) (2.15.0)\n",
      "Requirement already satisfied: nbdime~=4.0.1 in c:\\datascience\\lib\\site-packages (from jupyterlab-git) (4.0.2)\n",
      "Requirement already satisfied: nbformat in c:\\datascience\\lib\\site-packages (from jupyterlab-git) (5.10.4)\n",
      "Requirement already satisfied: packaging in c:\\datascience\\lib\\site-packages (from jupyterlab-git) (24.2)\n",
      "Requirement already satisfied: pexpect in c:\\datascience\\lib\\site-packages (from jupyterlab-git) (4.8.0)\n",
      "Requirement already satisfied: traitlets~=5.0 in c:\\datascience\\lib\\site-packages (from jupyterlab-git) (5.14.3)\n",
      "Requirement already satisfied: anyio>=3.1.0 in c:\\datascience\\lib\\site-packages (from jupyter-server<3,>=2.0.1->jupyterlab-git) (4.7.0)\n",
      "Requirement already satisfied: argon2-cffi>=21.1 in c:\\datascience\\lib\\site-packages (from jupyter-server<3,>=2.0.1->jupyterlab-git) (21.3.0)\n",
      "Requirement already satisfied: jinja2>=3.0.3 in c:\\datascience\\lib\\site-packages (from jupyter-server<3,>=2.0.1->jupyterlab-git) (3.1.6)\n",
      "Requirement already satisfied: jupyter-client>=7.4.4 in c:\\datascience\\lib\\site-packages (from jupyter-server<3,>=2.0.1->jupyterlab-git) (8.6.3)\n",
      "Requirement already satisfied: jupyter-core!=5.0.*,>=4.12 in c:\\datascience\\lib\\site-packages (from jupyter-server<3,>=2.0.1->jupyterlab-git) (5.7.2)\n",
      "Requirement already satisfied: jupyter-events>=0.11.0 in c:\\datascience\\lib\\site-packages (from jupyter-server<3,>=2.0.1->jupyterlab-git) (0.12.0)\n",
      "Requirement already satisfied: jupyter-server-terminals>=0.4.4 in c:\\datascience\\lib\\site-packages (from jupyter-server<3,>=2.0.1->jupyterlab-git) (0.5.3)\n",
      "Requirement already satisfied: nbconvert>=6.4.4 in c:\\datascience\\lib\\site-packages (from jupyter-server<3,>=2.0.1->jupyterlab-git) (7.16.6)\n",
      "Requirement already satisfied: overrides>=5.0 in c:\\datascience\\lib\\site-packages (from jupyter-server<3,>=2.0.1->jupyterlab-git) (7.4.0)\n",
      "Requirement already satisfied: prometheus-client>=0.9 in c:\\datascience\\lib\\site-packages (from jupyter-server<3,>=2.0.1->jupyterlab-git) (0.21.1)\n",
      "Requirement already satisfied: pywinpty>=2.0.1 in c:\\datascience\\lib\\site-packages (from jupyter-server<3,>=2.0.1->jupyterlab-git) (2.0.15)\n",
      "Requirement already satisfied: pyzmq>=24 in c:\\datascience\\lib\\site-packages (from jupyter-server<3,>=2.0.1->jupyterlab-git) (26.2.0)\n",
      "Requirement already satisfied: send2trash>=1.8.2 in c:\\datascience\\lib\\site-packages (from jupyter-server<3,>=2.0.1->jupyterlab-git) (1.8.2)\n",
      "Requirement already satisfied: terminado>=0.8.3 in c:\\datascience\\lib\\site-packages (from jupyter-server<3,>=2.0.1->jupyterlab-git) (0.17.1)\n",
      "Requirement already satisfied: tornado>=6.2.0 in c:\\datascience\\lib\\site-packages (from jupyter-server<3,>=2.0.1->jupyterlab-git) (6.5.1)\n",
      "Requirement already satisfied: websocket-client>=1.7 in c:\\datascience\\lib\\site-packages (from jupyter-server<3,>=2.0.1->jupyterlab-git) (1.8.0)\n",
      "Requirement already satisfied: colorama in c:\\datascience\\lib\\site-packages (from nbdime~=4.0.1->jupyterlab-git) (0.4.6)\n",
      "Requirement already satisfied: gitpython!=2.1.4,!=2.1.5,!=2.1.6 in c:\\datascience\\lib\\site-packages (from nbdime~=4.0.1->jupyterlab-git) (3.1.43)\n",
      "Requirement already satisfied: jupyter-server-mathjax>=0.2.2 in c:\\datascience\\lib\\site-packages (from nbdime~=4.0.1->jupyterlab-git) (0.2.6)\n",
      "Requirement already satisfied: pygments in c:\\datascience\\lib\\site-packages (from nbdime~=4.0.1->jupyterlab-git) (2.19.1)\n",
      "Requirement already satisfied: requests in c:\\datascience\\lib\\site-packages (from nbdime~=4.0.1->jupyterlab-git) (2.32.3)\n",
      "Requirement already satisfied: idna>=2.8 in c:\\datascience\\lib\\site-packages (from anyio>=3.1.0->jupyter-server<3,>=2.0.1->jupyterlab-git) (3.7)\n",
      "Requirement already satisfied: sniffio>=1.1 in c:\\datascience\\lib\\site-packages (from anyio>=3.1.0->jupyter-server<3,>=2.0.1->jupyterlab-git) (1.3.0)\n",
      "Requirement already satisfied: argon2-cffi-bindings in c:\\datascience\\lib\\site-packages (from argon2-cffi>=21.1->jupyter-server<3,>=2.0.1->jupyterlab-git) (21.2.0)\n",
      "Requirement already satisfied: gitdb<5,>=4.0.1 in c:\\datascience\\lib\\site-packages (from gitpython!=2.1.4,!=2.1.5,!=2.1.6->nbdime~=4.0.1->jupyterlab-git) (4.0.7)\n",
      "Requirement already satisfied: smmap<5,>=3.0.1 in c:\\datascience\\lib\\site-packages (from gitdb<5,>=4.0.1->gitpython!=2.1.4,!=2.1.5,!=2.1.6->nbdime~=4.0.1->jupyterlab-git) (4.0.0)\n",
      "Requirement already satisfied: MarkupSafe>=2.0 in c:\\datascience\\lib\\site-packages (from jinja2>=3.0.3->jupyter-server<3,>=2.0.1->jupyterlab-git) (3.0.2)\n",
      "Requirement already satisfied: python-dateutil>=2.8.2 in c:\\datascience\\lib\\site-packages (from jupyter-client>=7.4.4->jupyter-server<3,>=2.0.1->jupyterlab-git) (2.9.0.post0)\n",
      "Requirement already satisfied: platformdirs>=2.5 in c:\\datascience\\lib\\site-packages (from jupyter-core!=5.0.*,>=4.12->jupyter-server<3,>=2.0.1->jupyterlab-git) (4.3.7)\n",
      "Requirement already satisfied: pywin32>=300 in c:\\datascience\\lib\\site-packages (from jupyter-core!=5.0.*,>=4.12->jupyter-server<3,>=2.0.1->jupyterlab-git) (308)\n",
      "Requirement already satisfied: jsonschema>=4.18.0 in c:\\datascience\\lib\\site-packages (from jsonschema[format-nongpl]>=4.18.0->jupyter-events>=0.11.0->jupyter-server<3,>=2.0.1->jupyterlab-git) (4.23.0)\n",
      "Requirement already satisfied: python-json-logger>=2.0.4 in c:\\datascience\\lib\\site-packages (from jupyter-events>=0.11.0->jupyter-server<3,>=2.0.1->jupyterlab-git) (3.2.1)\n",
      "Requirement already satisfied: pyyaml>=5.3 in c:\\datascience\\lib\\site-packages (from jupyter-events>=0.11.0->jupyter-server<3,>=2.0.1->jupyterlab-git) (6.0.2)\n",
      "Requirement already satisfied: referencing in c:\\datascience\\lib\\site-packages (from jupyter-events>=0.11.0->jupyter-server<3,>=2.0.1->jupyterlab-git) (0.30.2)\n",
      "Requirement already satisfied: rfc3339-validator in c:\\datascience\\lib\\site-packages (from jupyter-events>=0.11.0->jupyter-server<3,>=2.0.1->jupyterlab-git) (0.1.4)\n",
      "Requirement already satisfied: rfc3986-validator>=0.1.1 in c:\\datascience\\lib\\site-packages (from jupyter-events>=0.11.0->jupyter-server<3,>=2.0.1->jupyterlab-git) (0.1.1)\n",
      "Requirement already satisfied: attrs>=22.2.0 in c:\\datascience\\lib\\site-packages (from jsonschema>=4.18.0->jsonschema[format-nongpl]>=4.18.0->jupyter-events>=0.11.0->jupyter-server<3,>=2.0.1->jupyterlab-git) (24.3.0)\n",
      "Requirement already satisfied: jsonschema-specifications>=2023.03.6 in c:\\datascience\\lib\\site-packages (from jsonschema>=4.18.0->jsonschema[format-nongpl]>=4.18.0->jupyter-events>=0.11.0->jupyter-server<3,>=2.0.1->jupyterlab-git) (2023.7.1)\n",
      "Requirement already satisfied: rpds-py>=0.7.1 in c:\\datascience\\lib\\site-packages (from jsonschema>=4.18.0->jsonschema[format-nongpl]>=4.18.0->jupyter-events>=0.11.0->jupyter-server<3,>=2.0.1->jupyterlab-git) (0.22.3)\n",
      "Requirement already satisfied: fqdn in c:\\datascience\\lib\\site-packages (from jsonschema[format-nongpl]>=4.18.0->jupyter-events>=0.11.0->jupyter-server<3,>=2.0.1->jupyterlab-git) (1.5.1)\n",
      "Requirement already satisfied: isoduration in c:\\datascience\\lib\\site-packages (from jsonschema[format-nongpl]>=4.18.0->jupyter-events>=0.11.0->jupyter-server<3,>=2.0.1->jupyterlab-git) (20.11.0)\n",
      "Requirement already satisfied: jsonpointer>1.13 in c:\\datascience\\lib\\site-packages (from jsonschema[format-nongpl]>=4.18.0->jupyter-events>=0.11.0->jupyter-server<3,>=2.0.1->jupyterlab-git) (2.1)\n",
      "Requirement already satisfied: uri-template in c:\\datascience\\lib\\site-packages (from jsonschema[format-nongpl]>=4.18.0->jupyter-events>=0.11.0->jupyter-server<3,>=2.0.1->jupyterlab-git) (1.3.0)\n",
      "Requirement already satisfied: webcolors>=24.6.0 in c:\\datascience\\lib\\site-packages (from jsonschema[format-nongpl]>=4.18.0->jupyter-events>=0.11.0->jupyter-server<3,>=2.0.1->jupyterlab-git) (24.11.1)\n",
      "Requirement already satisfied: beautifulsoup4 in c:\\datascience\\lib\\site-packages (from nbconvert>=6.4.4->jupyter-server<3,>=2.0.1->jupyterlab-git) (4.12.3)\n",
      "Requirement already satisfied: bleach!=5.0.0 in c:\\datascience\\lib\\site-packages (from bleach[css]!=5.0.0->nbconvert>=6.4.4->jupyter-server<3,>=2.0.1->jupyterlab-git) (6.2.0)\n",
      "Requirement already satisfied: defusedxml in c:\\datascience\\lib\\site-packages (from nbconvert>=6.4.4->jupyter-server<3,>=2.0.1->jupyterlab-git) (0.7.1)\n",
      "Requirement already satisfied: jupyterlab-pygments in c:\\datascience\\lib\\site-packages (from nbconvert>=6.4.4->jupyter-server<3,>=2.0.1->jupyterlab-git) (0.3.0)\n",
      "Requirement already satisfied: mistune<4,>=2.0.3 in c:\\datascience\\lib\\site-packages (from nbconvert>=6.4.4->jupyter-server<3,>=2.0.1->jupyterlab-git) (3.1.2)\n",
      "Requirement already satisfied: nbclient>=0.5.0 in c:\\datascience\\lib\\site-packages (from nbconvert>=6.4.4->jupyter-server<3,>=2.0.1->jupyterlab-git) (0.10.2)\n",
      "Requirement already satisfied: pandocfilters>=1.4.1 in c:\\datascience\\lib\\site-packages (from nbconvert>=6.4.4->jupyter-server<3,>=2.0.1->jupyterlab-git) (1.5.0)\n",
      "Requirement already satisfied: webencodings in c:\\datascience\\lib\\site-packages (from bleach!=5.0.0->bleach[css]!=5.0.0->nbconvert>=6.4.4->jupyter-server<3,>=2.0.1->jupyterlab-git) (0.5.1)\n",
      "Requirement already satisfied: tinycss2<1.5,>=1.1.0 in c:\\datascience\\lib\\site-packages (from bleach[css]!=5.0.0->nbconvert>=6.4.4->jupyter-server<3,>=2.0.1->jupyterlab-git) (1.4.0)\n",
      "Requirement already satisfied: fastjsonschema>=2.15 in c:\\datascience\\lib\\site-packages (from nbformat->jupyterlab-git) (2.20.0)\n",
      "Requirement already satisfied: six>=1.5 in c:\\datascience\\lib\\site-packages (from python-dateutil>=2.8.2->jupyter-client>=7.4.4->jupyter-server<3,>=2.0.1->jupyterlab-git) (1.17.0)\n",
      "Requirement already satisfied: cffi>=1.0.1 in c:\\datascience\\lib\\site-packages (from argon2-cffi-bindings->argon2-cffi>=21.1->jupyter-server<3,>=2.0.1->jupyterlab-git) (1.17.1)\n",
      "Requirement already satisfied: pycparser in c:\\datascience\\lib\\site-packages (from cffi>=1.0.1->argon2-cffi-bindings->argon2-cffi>=21.1->jupyter-server<3,>=2.0.1->jupyterlab-git) (2.21)\n",
      "Requirement already satisfied: soupsieve>1.2 in c:\\datascience\\lib\\site-packages (from beautifulsoup4->nbconvert>=6.4.4->jupyter-server<3,>=2.0.1->jupyterlab-git) (2.5)\n",
      "Requirement already satisfied: arrow>=0.15.0 in c:\\datascience\\lib\\site-packages (from isoduration->jsonschema[format-nongpl]>=4.18.0->jupyter-events>=0.11.0->jupyter-server<3,>=2.0.1->jupyterlab-git) (1.3.0)\n",
      "Requirement already satisfied: ptyprocess>=0.5 in c:\\datascience\\lib\\site-packages (from pexpect->jupyterlab-git) (0.7.0)\n",
      "Requirement already satisfied: charset-normalizer<4,>=2 in c:\\datascience\\lib\\site-packages (from requests->nbdime~=4.0.1->jupyterlab-git) (3.3.2)\n",
      "Requirement already satisfied: urllib3<3,>=1.21.1 in c:\\datascience\\lib\\site-packages (from requests->nbdime~=4.0.1->jupyterlab-git) (2.3.0)\n",
      "Requirement already satisfied: certifi>=2017.4.17 in c:\\datascience\\lib\\site-packages (from requests->nbdime~=4.0.1->jupyterlab-git) (2025.8.3)\n"
     ]
    }
   ],
   "source": [
    "!pip install --upgrade jupyterlab-git"
   ]
  },
  {
   "cell_type": "code",
   "execution_count": 3,
   "id": "044dab02-34e2-4906-ab80-9146fed80838",
   "metadata": {},
   "outputs": [
    {
     "name": "stderr",
     "output_type": "stream",
     "text": [
      "Extension package aext_assistant took 1.6520s to import\n",
      "****************** ENVIRONMENT [Panels] Environment.PRODUCTION ******************\n",
      "****************** ENVIRONMENT [Panels] Environment.PRODUCTION ******************\n",
      "Database not initialized by migration_upgrade(). Running it again\n",
      "Database not initialized by migration_upgrade(). Running it again\n",
      "--> Alembic Config: {'db_conn_url': 'sqlite:///C:\\\\Users\\\\Админ\\\\Desktop\\\\py\\\\DataScince\\\\homework_1\\\\numpy\\\\anaconda_projects\\\\db\\\\project_filebrowser.db', 'db_path': 'C:\\\\Users\\\\Админ\\\\Desktop\\\\py\\\\DataScince\\\\homework_1\\\\numpy\\\\anaconda_projects\\\\db\\\\project_filebrowser.db'}\n",
      "Default dir: C:\\Users\\Админ\\Desktop\\py\\DataScince\\homework_1\\numpy. Running chdir...\n",
      "Checking for database file @ C:\\Users\\Админ\\Desktop\\py\\DataScince\\homework_1\\numpy\\anaconda_projects\\db\\project_filebrowser.db\n",
      "Creating database file...\n",
      "Migrations executed\n",
      "--> Alembic Config: {'db_conn_url': 'sqlite:///C:\\\\Users\\\\Админ\\\\Desktop\\\\py\\\\DataScince\\\\homework_1\\\\numpy\\\\anaconda_projects\\\\db\\\\project_filebrowser.db', 'db_path': 'C:\\\\Users\\\\Админ\\\\Desktop\\\\py\\\\DataScince\\\\homework_1\\\\numpy\\\\anaconda_projects\\\\db\\\\project_filebrowser.db'}\n",
      "Default dir: C:\\Users\\Админ\\Desktop\\py\\DataScince\\homework_1\\numpy. Running chdir...\n",
      "Checking for database file @ C:\\Users\\Админ\\Desktop\\py\\DataScince\\homework_1\\numpy\\anaconda_projects\\db\\project_filebrowser.db\n",
      "Database file already exists\n",
      "Migrations executed\n",
      "Checking project configuration: C:\\Users\\Админ\\Desktop\\py\\DataScince\\homework_1\\numpy. Running chdir...\n",
      "Initializing a new watchdog thread: []\n",
      "Successfully initialized a watchdog thread: [11472]\n",
      "Extension package aext_toolbox took 0.4336s to import\n",
      "Extension package panel.io.jupyter_server_extension took 0.7216s to import\n",
      "Enabling: jupyterlab_git\n",
      "- Writing config: C:\\DataScience\\etc\\jupyter\n",
      "    - Validating jupyterlab_git...\n",
      "      jupyterlab_git  ok\n",
      "    - Extension successfully enabled.\n"
     ]
    }
   ],
   "source": [
    "!jupyter server extension enable --py jupyterlab_git"
   ]
  },
  {
   "cell_type": "code",
   "execution_count": 4,
   "id": "38ffe3ee-f89b-47b3-b80c-6e0eb04bb6f8",
   "metadata": {},
   "outputs": [
    {
     "name": "stdout",
     "output_type": "stream",
     "text": [
      "Config dir: C:\\Users\\Админ\\.jupyter\n",
      "Config dir: C:\\DataScience\\etc\\jupyter\n",
      "    aext_assistant enabled\n",
      "    - Validating aext_assistant...\n",
      "      aext_assistant 4.20.0 ok\n",
      "    aext_core enabled\n",
      "    - Validating aext_core...\n",
      "      aext_core 4.20.0 ok\n",
      "    aext_panels enabled\n",
      "    - Validating aext_panels...\n",
      "      aext_panels 4.20.0 ok\n",
      "    aext_share_notebook enabled\n",
      "    - Validating aext_share_notebook...\n",
      "      aext_share_notebook 4.20.0 ok\n",
      "    aext_toolbox enabled\n",
      "    - Validating aext_toolbox...\n",
      "      aext_toolbox 4.20.0 ok\n",
      "    jupyter_lsp enabled\n",
      "    - Validating jupyter_lsp...\n",
      "      jupyter_lsp 2.2.5 ok\n",
      "    jupyter_server_mathjax enabled\n",
      "    - Validating jupyter_server_mathjax...\n",
      "      jupyter_server_mathjax  ok\n",
      "    jupyter_server_terminals enabled\n",
      "    - Validating jupyter_server_terminals...\n",
      "      jupyter_server_terminals 0.5.3 ok\n",
      "    jupyterlab enabled\n",
      "    - Validating jupyterlab...\n",
      "      jupyterlab 4.3.4 ok\n",
      "    jupyterlab_git enabled\n",
      "    - Validating jupyterlab_git...\n",
      "      jupyterlab_git 0.51.2 ok\n",
      "    nbdime enabled\n",
      "    - Validating nbdime...\n",
      "      nbdime 4.0.2 ok\n",
      "    notebook enabled\n",
      "    - Validating notebook...\n",
      "      notebook 7.3.2 ok\n",
      "    notebook_shim enabled\n",
      "    - Validating notebook_shim...\n",
      "      notebook_shim  ok\n",
      "    panel.io.jupyter_server_extension enabled\n",
      "    - Validating panel.io.jupyter_server_extension...\n",
      "      panel.io.jupyter_server_extension  ok\n",
      "Config dir: C:\\ProgramData\\jupyter\n"
     ]
    },
    {
     "name": "stderr",
     "output_type": "stream",
     "text": [
      "\n",
      "Extension package aext_assistant took 1.6482s to import\n",
      "****************** ENVIRONMENT [Panels] Environment.PRODUCTION ******************\n",
      "****************** ENVIRONMENT [Panels] Environment.PRODUCTION ******************\n",
      "--> Alembic Config: {'db_conn_url': 'sqlite:///C:\\\\Users\\\\Админ\\\\Desktop\\\\py\\\\DataScince\\\\homework_1\\\\numpy\\\\anaconda_projects\\\\db\\\\project_filebrowser.db', 'db_path': 'C:\\\\Users\\\\Админ\\\\Desktop\\\\py\\\\DataScince\\\\homework_1\\\\numpy\\\\anaconda_projects\\\\db\\\\project_filebrowser.db'}\n",
      "Default dir: C:\\Users\\Админ\\Desktop\\py\\DataScince\\homework_1\\numpy. Running chdir...\n",
      "Checking for database file @ C:\\Users\\Админ\\Desktop\\py\\DataScince\\homework_1\\numpy\\anaconda_projects\\db\\project_filebrowser.db\n",
      "Database file already exists\n",
      "Migrations executed\n",
      "Checking project configuration: C:\\Users\\Админ\\Desktop\\py\\DataScince\\homework_1\\numpy. Running chdir...\n",
      "Initializing a new watchdog thread: []\n",
      "Successfully initialized a watchdog thread: [15312]\n",
      "Extension package aext_toolbox took 0.3929s to import\n",
      "Extension package panel.io.jupyter_server_extension took 0.6874s to import\n",
      "\n",
      "\n"
     ]
    }
   ],
   "source": [
    "!jupyter server extension list"
   ]
  },
  {
   "cell_type": "code",
   "execution_count": null,
   "id": "12030e65-e7d8-4b83-a375-a6be608c8070",
   "metadata": {},
   "outputs": [],
   "source": []
  }
 ],
 "metadata": {
  "kernelspec": {
   "display_name": "Python [conda env:base] *",
   "language": "python",
   "name": "conda-base-py"
  },
  "language_info": {
   "codemirror_mode": {
    "name": "ipython",
    "version": 3
   },
   "file_extension": ".py",
   "mimetype": "text/x-python",
   "name": "python",
   "nbconvert_exporter": "python",
   "pygments_lexer": "ipython3",
   "version": "3.13.5"
  }
 },
 "nbformat": 4,
 "nbformat_minor": 5
}
